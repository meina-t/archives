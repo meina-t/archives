{
  "nbformat": 4,
  "nbformat_minor": 0,
  "metadata": {
    "colab": {
      "provenance": [],
      "toc_visible": true
    },
    "kernelspec": {
      "name": "python3",
      "display_name": "Python 3"
    },
    "language_info": {
      "name": "python"
    }
  },
  "cells": [
    {
      "cell_type": "markdown",
      "source": [
        "# getting\n"
      ],
      "metadata": {
        "id": "gd2zRxdESJB9"
      }
    },
    {
      "cell_type": "markdown",
      "source": [
        "# 新しいセクション"
      ],
      "metadata": {
        "id": "f9uv-B6CxEzc"
      }
    },
    {
      "cell_type": "markdown",
      "source": [
        "## modules"
      ],
      "metadata": {
        "id": "GJi-azyJSadD"
      }
    },
    {
      "cell_type": "code",
      "source": [
        "!pip install optuna xfeat japanize-matplotlib >> /dev/null"
      ],
      "metadata": {
        "id": "tzS3AjKnSW10"
      },
      "execution_count": null,
      "outputs": []
    },
    {
      "cell_type": "code",
      "execution_count": null,
      "metadata": {
        "id": "WbFv0f4fSBjG"
      },
      "outputs": [],
      "source": [
        "import re\n",
        "\n",
        "import japanize_matplotlib\n",
        "import lightgbm as lgb\n",
        "import matplotlib.pyplot as plt\n",
        "import numpy as np\n",
        "import optuna\n",
        "import pandas as pd\n",
        "import seaborn as sns\n",
        "sns.set()\n",
        "\n",
        "from glob import glob\n",
        "from functools import partial\n",
        "from sklearn.metrics import mean_absolute_error\n",
        "from sklearn.model_selection import KFold\n",
        "from xfeat import SelectCategorical, LabelEncoder, LambdaEncoder, Pipeline, ConcatCombination, SelectNumerical, \\\n",
        "    ArithmeticCombinations, TargetEncoder, aggregation, GBDTFeatureSelector, GBDTFeatureExplorer"
      ]
    },
    {
      "cell_type": "markdown",
      "source": [
        "## data"
      ],
      "metadata": {
        "id": "zprWJC6dSdTo"
      }
    },
    {
      "cell_type": "code",
      "source": [
        "from google.colab import drive\n",
        "drive.mount('/content/drive')"
      ],
      "metadata": {
        "colab": {
          "base_uri": "https://localhost:8080/"
        },
        "id": "ksshuPa_SgVD",
        "outputId": "d7307853-b405-41c7-c58d-a0ef15ff5995"
      },
      "execution_count": null,
      "outputs": [
        {
          "output_type": "stream",
          "name": "stdout",
          "text": [
            "Drive already mounted at /content/drive; to attempt to forcibly remount, call drive.mount(\"/content/drive\", force_remount=True).\n"
          ]
        }
      ]
    },
    {
      "cell_type": "code",
      "source": [
        "paths = glob('/content/drive/MyDrive/データ/2022_12_Nishika_estate/data/train/*')\n",
        "train_dfs = []\n",
        "for path in paths:\n",
        "  train_df = pd.read_csv(path)\n",
        "  train_dfs.append(train_df)\n",
        "train_df = pd.concat(train_dfs)\n",
        "train_df.reset_index(drop=True, inplace = True)\n",
        "test_df = pd.read_csv('/content/drive/MyDrive/データ/2022_12_Nishika_estate/data/test.csv')"
      ],
      "metadata": {
        "colab": {
          "base_uri": "https://localhost:8080/"
        },
        "id": "XXnDQ4LpSj1B",
        "outputId": "fdd4a7cc-d9ac-4b14-dfed-07cf626eaf70"
      },
      "execution_count": null,
      "outputs": [
        {
          "output_type": "stream",
          "name": "stderr",
          "text": [
            "/usr/local/lib/python3.8/dist-packages/IPython/core/interactiveshell.py:3326: DtypeWarning: Columns (10) have mixed types.Specify dtype option on import or set low_memory=False.\n",
            "  exec(code_obj, self.user_global_ns, self.user_ns)\n"
          ]
        }
      ]
    },
    {
      "cell_type": "markdown",
      "source": [
        "## formula"
      ],
      "metadata": {
        "id": "rxivTuH9SqAF"
      }
    },
    {
      "cell_type": "code",
      "source": [
        "def normalize_moyori(moyori):\n",
        "    if moyori == moyori:\n",
        "        if moyori == '30分?60分':\n",
        "            moyori = 45\n",
        "        elif moyori == '1H?1H30':\n",
        "            moyori = 75\n",
        "        elif moyori == '1H30?2H':\n",
        "            moyori = 105\n",
        "        elif moyori == '2H?':\n",
        "            moyori = 120\n",
        "        moyori = int(moyori)\n",
        "    return moyori"
      ],
      "metadata": {
        "id": "JySenVpfSpqN"
      },
      "execution_count": null,
      "outputs": []
    },
    {
      "cell_type": "code",
      "source": [
        "def normalize_area(area):\n",
        "    if area == area:\n",
        "        area = int(re.sub('m\\^2未満|㎡以上', '', str(area)))\n",
        "    return area"
      ],
      "metadata": {
        "id": "eE-AVhs2Sv0x"
      },
      "execution_count": null,
      "outputs": []
    },
    {
      "cell_type": "code",
      "source": [
        "def convert_wareki_to_seireki(wareki):\n",
        "    if wareki == wareki:\n",
        "        if wareki == '戦前':\n",
        "            wareki = '昭和20年'\n",
        "        value = wareki[2:-1]\n",
        "        if value == '元':\n",
        "            value = 1\n",
        "        else:\n",
        "            value = int(value)\n",
        "        if '昭和' in wareki:\n",
        "            seireki = 1925+value\n",
        "        elif '平成' in wareki:\n",
        "            seireki = 1988+value\n",
        "        elif '令和' in wareki:\n",
        "            seireki = 2018+value\n",
        "    else:\n",
        "        seireki = wareki\n",
        "    return seireki"
      ],
      "metadata": {
        "id": "3Om8c5oqSyPJ"
      },
      "execution_count": null,
      "outputs": []
    },
    {
      "cell_type": "markdown",
      "source": [
        "# adjusting data"
      ],
      "metadata": {
        "id": "_9PDXAi2TVWg"
      }
    },
    {
      "cell_type": "markdown",
      "source": [
        "## 整形"
      ],
      "metadata": {
        "id": "ymG4xmJ6Ukqh"
      }
    },
    {
      "cell_type": "code",
      "source": [
        "train_df.columns"
      ],
      "metadata": {
        "colab": {
          "base_uri": "https://localhost:8080/"
        },
        "id": "8tKFlbLrWBGJ",
        "outputId": "9b9fc8ea-d992-4531-92b1-ae00b91dc514"
      },
      "execution_count": null,
      "outputs": [
        {
          "output_type": "execute_result",
          "data": {
            "text/plain": [
              "Index(['ID', '種類', '地域', '市区町村コード', '都道府県名', '市区町村名', '地区名', '最寄駅：名称',\n",
              "       '最寄駅：距離（分）', '間取り', '面積（㎡）', '土地の形状', '間口', '延床面積（㎡）', '建築年', '建物の構造',\n",
              "       '用途', '今後の利用目的', '前面道路：方位', '前面道路：種類', '前面道路：幅員（ｍ）', '都市計画', '建ぺい率（％）',\n",
              "       '容積率（％）', '取引時点', '改装', '取引の事情等', '取引価格（総額）_log'],\n",
              "      dtype='object')"
            ]
          },
          "metadata": {},
          "execution_count": 9
        }
      ]
    },
    {
      "cell_type": "code",
      "source": [
        "df = train_df[['ID', '種類', '市区町村コード', '都道府県名', '市区町村名', '地区名', '最寄駅：名称',\n",
        "       '最寄駅：距離（分）', '間取り', '面積（㎡）',  '建築年', '建物の構造', '都市計画', '建ぺい率（％）',\n",
        "       '容積率（％）', '取引時点', '改装', '取引価格（総額）_log']]"
      ],
      "metadata": {
        "id": "GDj8HZcEV4HX"
      },
      "execution_count": null,
      "outputs": []
    },
    {
      "cell_type": "code",
      "source": [
        "ID = 'ID'\n",
        "TARGET = '取引価格（総額）_log'\n",
        "CODE = '市区町村コード'\n",
        "STATION = '最寄駅：名称'\n",
        "DIMENTION = '面積（㎡）'\n",
        "KEMPEI = '建ぺい率（％）'\n",
        "FLOOR = '容積率（％）'\n",
        "# 短縮ダイヤル"
      ],
      "metadata": {
        "id": "hILshyL9TZFG"
      },
      "execution_count": null,
      "outputs": []
    },
    {
      "cell_type": "markdown",
      "source": [
        "## quanitify\n"
      ],
      "metadata": {
        "id": "gYT2aZEsYz2A"
      }
    },
    {
      "cell_type": "markdown",
      "source": [
        "### 1.単純なやつ"
      ],
      "metadata": {
        "id": "NScsRm2anHUp"
      }
    },
    {
      "cell_type": "code",
      "source": [
        "df['建築年'] = df['建築年'].apply(lambda x: convert_wareki_to_seireki(x))\n",
        "df['面積（㎡）'] = df['面積（㎡）'].apply(lambda x: normalize_area(x))\n",
        "df['最寄駅：距離（分）'] = df['最寄駅：距離（分）'].apply(lambda x: normalize_moyori(x))"
      ],
      "metadata": {
        "colab": {
          "base_uri": "https://localhost:8080/"
        },
        "id": "mBui53qdZ3Di",
        "outputId": "086be395-aeed-43f9-97ec-fc2fe067df10"
      },
      "execution_count": null,
      "outputs": [
        {
          "output_type": "stream",
          "name": "stderr",
          "text": [
            "<ipython-input-12-1f0f67c6feb2>:1: SettingWithCopyWarning: \n",
            "A value is trying to be set on a copy of a slice from a DataFrame.\n",
            "Try using .loc[row_indexer,col_indexer] = value instead\n",
            "\n",
            "See the caveats in the documentation: https://pandas.pydata.org/pandas-docs/stable/user_guide/indexing.html#returning-a-view-versus-a-copy\n",
            "  df['建築年'] = df['建築年'].apply(lambda x: convert_wareki_to_seireki(x))\n",
            "<ipython-input-12-1f0f67c6feb2>:2: SettingWithCopyWarning: \n",
            "A value is trying to be set on a copy of a slice from a DataFrame.\n",
            "Try using .loc[row_indexer,col_indexer] = value instead\n",
            "\n",
            "See the caveats in the documentation: https://pandas.pydata.org/pandas-docs/stable/user_guide/indexing.html#returning-a-view-versus-a-copy\n",
            "  df['面積（㎡）'] = df['面積（㎡）'].apply(lambda x: normalize_area(x))\n",
            "<ipython-input-12-1f0f67c6feb2>:3: SettingWithCopyWarning: \n",
            "A value is trying to be set on a copy of a slice from a DataFrame.\n",
            "Try using .loc[row_indexer,col_indexer] = value instead\n",
            "\n",
            "See the caveats in the documentation: https://pandas.pydata.org/pandas-docs/stable/user_guide/indexing.html#returning-a-view-versus-a-copy\n",
            "  df['最寄駅：距離（分）'] = df['最寄駅：距離（分）'].apply(lambda x: normalize_moyori(x))\n"
          ]
        }
      ]
    },
    {
      "cell_type": "code",
      "source": [
        "df['改装'].unique()"
      ],
      "metadata": {
        "colab": {
          "base_uri": "https://localhost:8080/"
        },
        "id": "PesaCImyaht-",
        "outputId": "280dd1ee-24b3-4b58-941e-3d24f760d181"
      },
      "execution_count": null,
      "outputs": [
        {
          "output_type": "execute_result",
          "data": {
            "text/plain": [
              "array(['未改装', nan, '改装済'], dtype=object)"
            ]
          },
          "metadata": {},
          "execution_count": 13
        }
      ]
    },
    {
      "cell_type": "code",
      "source": [
        "df['改装'] = df['改装'].map(lambda x: 1 if x == '改装済' else 0)"
      ],
      "metadata": {
        "colab": {
          "base_uri": "https://localhost:8080/"
        },
        "id": "kq5IXmkZaLBn",
        "outputId": "12a62da5-c3d2-477d-b002-4345623ef3b1"
      },
      "execution_count": null,
      "outputs": [
        {
          "output_type": "stream",
          "name": "stderr",
          "text": [
            "<ipython-input-14-8f570304d8d4>:1: SettingWithCopyWarning: \n",
            "A value is trying to be set on a copy of a slice from a DataFrame.\n",
            "Try using .loc[row_indexer,col_indexer] = value instead\n",
            "\n",
            "See the caveats in the documentation: https://pandas.pydata.org/pandas-docs/stable/user_guide/indexing.html#returning-a-view-versus-a-copy\n",
            "  df['改装'] = df['改装'].map(lambda x: 1 if x == '改装済' else 0)\n"
          ]
        }
      ]
    },
    {
      "cell_type": "markdown",
      "source": [
        "# try 全部one hot"
      ],
      "metadata": {
        "id": "lJMimi0-VZW8"
      }
    },
    {
      "cell_type": "markdown",
      "source": [
        "### 間取り いじるのはdf1_1\n",
        "部屋の数だけ取り出す\n"
      ],
      "metadata": {
        "id": "h3PocyTHnOV5"
      }
    },
    {
      "cell_type": "code",
      "source": [
        "print(df['間取り'].unique())\n",
        "print(df['間取り'].unique().size)"
      ],
      "metadata": {
        "colab": {
          "base_uri": "https://localhost:8080/"
        },
        "id": "36T7Ynzpa-ZR",
        "outputId": "5200c83f-85da-4276-bd12-a7a2df9e80b5"
      },
      "execution_count": null,
      "outputs": [
        {
          "output_type": "stream",
          "name": "stdout",
          "text": [
            "['１Ｋ' '４ＬＤＫ' '３ＬＤＫ' '１ＤＫ' '２ＬＤＫ' '２ＤＫ' '１ＬＤＫ' nan '１Ｒ' '３ＤＫ' '２ＬＤＫ＋Ｓ'\n",
            " 'オープンフロア' '２Ｋ' '３Ｋ' '２ＤＫ＋Ｓ' '４ＤＫ' '５ＬＤＫ' '１ＬＤＫ＋Ｓ' '４Ｋ' '３ＬＤＫ＋Ｓ' '４ＬＤＫ＋Ｓ'\n",
            " '１ＤＫ＋Ｓ' '３ＬＫ' '１Ｌ' '５ＬＤＫ＋Ｓ' '３ＬＤ' '２ＬＫ' 'メゾネット' '２Ｌ' '３ＤＫ＋Ｓ' '３Ｋ＋Ｓ' '５ＤＫ'\n",
            " '４Ｌ＋Ｋ' '１ＤＫ＋Ｋ' '１ＬＫ' '２ＬＤＫ＋Ｋ' '２Ｋ＋Ｓ' '２ＬＫ＋Ｓ' '６ＬＤＫ' '４ＤＫ＋Ｓ' '４ＬＤＫ＋Ｋ'\n",
            " '２ＬＤ＋Ｓ' '１Ｒ＋Ｓ' 'スタジオ' '１Ｌ＋Ｓ' '３ＬＤ＋Ｓ' '３ＬＤＫ＋Ｋ' '１Ｋ＋Ｓ' '１ＬＫ＋Ｓ' '７ＬＤＫ' '６ＤＫ'\n",
            " '１ＬＤ＋Ｓ' '２Ｌ＋Ｓ' '２Ｄ' '２ＬＤ' '６ＬＤＫ＋Ｓ' '４Ｄ' '３Ｄ' '５Ｋ' '５ＬＤＫ＋Ｋ' '８ＬＤＫ'\n",
            " '８ＬＤＫ＋Ｓ' '７ＬＤＫ＋Ｓ' '４Ｌ' '３ＬＫ＋Ｓ' '７ＤＫ']\n",
            "66\n"
          ]
        }
      ]
    },
    {
      "cell_type": "code",
      "source": [
        "'１' in '１Ｋ'"
      ],
      "metadata": {
        "colab": {
          "base_uri": "https://localhost:8080/"
        },
        "id": "v3eWfPHmXOsb",
        "outputId": "5c285b2d-8314-4048-9cbe-66c1d3ba4b69"
      },
      "execution_count": null,
      "outputs": [
        {
          "output_type": "execute_result",
          "data": {
            "text/plain": [
              "True"
            ]
          },
          "metadata": {},
          "execution_count": 16
        }
      ]
    },
    {
      "cell_type": "code",
      "source": [
        "def define_madori(x):\n",
        "  if '１' in str(x) :\n",
        "    y = 1\n",
        "  elif '２' in str(x):\n",
        "    y = 2\n",
        "  elif '３' in str(x):\n",
        "    y = 3\n",
        "  elif '４' in str(x):\n",
        "    y = 4\n",
        "  elif '５' in str(x):\n",
        "    y = 5\n",
        "  elif '６' in str(x):\n",
        "    y = 6\n",
        "  elif '７' in str(x):\n",
        "    y = 7\n",
        "  elif '８' in str(x):\n",
        "    y = 8\n",
        "  else:\n",
        "    y = 0\n",
        "  return y"
      ],
      "metadata": {
        "id": "V9GfzU-cWjt9"
      },
      "execution_count": null,
      "outputs": []
    },
    {
      "cell_type": "code",
      "source": [
        "define_madori('３ＬＤ＋Ｓ')"
      ],
      "metadata": {
        "colab": {
          "base_uri": "https://localhost:8080/"
        },
        "id": "_UossugBhekq",
        "outputId": "86a03623-92da-4730-93f4-6eb6865084f3"
      },
      "execution_count": null,
      "outputs": [
        {
          "output_type": "execute_result",
          "data": {
            "text/plain": [
              "3"
            ]
          },
          "metadata": {},
          "execution_count": 18
        }
      ]
    },
    {
      "cell_type": "code",
      "source": [
        "df['間取り'] = df['間取り'].apply(lambda x: define_madori(x))"
      ],
      "metadata": {
        "colab": {
          "base_uri": "https://localhost:8080/"
        },
        "id": "Pxc0z8nVhR4I",
        "outputId": "a9de464e-5ccc-45e5-dc2a-9429ce6b4fb5"
      },
      "execution_count": null,
      "outputs": [
        {
          "output_type": "stream",
          "name": "stderr",
          "text": [
            "<ipython-input-19-38b346abfe35>:1: SettingWithCopyWarning: \n",
            "A value is trying to be set on a copy of a slice from a DataFrame.\n",
            "Try using .loc[row_indexer,col_indexer] = value instead\n",
            "\n",
            "See the caveats in the documentation: https://pandas.pydata.org/pandas-docs/stable/user_guide/indexing.html#returning-a-view-versus-a-copy\n",
            "  df['間取り'] = df['間取り'].apply(lambda x: define_madori(x))\n"
          ]
        }
      ]
    },
    {
      "cell_type": "code",
      "source": [
        "df.head()"
      ],
      "metadata": {
        "colab": {
          "base_uri": "https://localhost:8080/",
          "height": 503
        },
        "id": "YJ7dCtmLjKGm",
        "outputId": "bd7f8f09-8e69-464a-b366-f0a9b182cf7a"
      },
      "execution_count": null,
      "outputs": [
        {
          "output_type": "execute_result",
          "data": {
            "text/plain": [
              "        ID        種類  市区町村コード 都道府県名 市区町村名   地区名 最寄駅：名称  最寄駅：距離（分）  間取り  面積（㎡）  \\\n",
              "0  3015552  中古マンション等     3201   岩手県   盛岡市    東山     盛岡       45.0    1     25   \n",
              "1  3023488  中古マンション等     3201   岩手県   盛岡市   本町通    上盛岡        1.0    4     90   \n",
              "2  3001812  中古マンション等     3201   岩手県   盛岡市   中央通     盛岡       15.0    4     90   \n",
              "3  3009546  中古マンション等     3201   岩手県   盛岡市  大沢川原     盛岡       11.0    3     75   \n",
              "4  3018911  中古マンション等     3201   岩手県   盛岡市   材木町     盛岡       10.0    3     65   \n",
              "\n",
              "      建築年 建物の構造          都市計画  建ぺい率（％）  容積率（％）        取引時点  改装  取引価格（総額）_log  \n",
              "0     NaN    ＲＣ  第２種中高層住居専用地域     60.0   200.0  2015年第2四半期   0      6.301030  \n",
              "1  1999.0   ＳＲＣ        近隣商業地域     80.0   200.0  2008年第1四半期   0      7.380211  \n",
              "2  2015.0    ＲＣ          商業地域     80.0   600.0  2019年第4四半期   0      7.568202  \n",
              "3     NaN    ＲＣ          商業地域     80.0   400.0  2010年第4四半期   0      7.278754  \n",
              "4  1985.0   ＳＲＣ          商業地域     80.0   400.0  2008年第4四半期   0      6.982271  "
            ],
            "text/html": [
              "\n",
              "  <div id=\"df-ce8b8c0b-b0fa-4530-a8b5-91d059bceab9\">\n",
              "    <div class=\"colab-df-container\">\n",
              "      <div>\n",
              "<style scoped>\n",
              "    .dataframe tbody tr th:only-of-type {\n",
              "        vertical-align: middle;\n",
              "    }\n",
              "\n",
              "    .dataframe tbody tr th {\n",
              "        vertical-align: top;\n",
              "    }\n",
              "\n",
              "    .dataframe thead th {\n",
              "        text-align: right;\n",
              "    }\n",
              "</style>\n",
              "<table border=\"1\" class=\"dataframe\">\n",
              "  <thead>\n",
              "    <tr style=\"text-align: right;\">\n",
              "      <th></th>\n",
              "      <th>ID</th>\n",
              "      <th>種類</th>\n",
              "      <th>市区町村コード</th>\n",
              "      <th>都道府県名</th>\n",
              "      <th>市区町村名</th>\n",
              "      <th>地区名</th>\n",
              "      <th>最寄駅：名称</th>\n",
              "      <th>最寄駅：距離（分）</th>\n",
              "      <th>間取り</th>\n",
              "      <th>面積（㎡）</th>\n",
              "      <th>建築年</th>\n",
              "      <th>建物の構造</th>\n",
              "      <th>都市計画</th>\n",
              "      <th>建ぺい率（％）</th>\n",
              "      <th>容積率（％）</th>\n",
              "      <th>取引時点</th>\n",
              "      <th>改装</th>\n",
              "      <th>取引価格（総額）_log</th>\n",
              "    </tr>\n",
              "  </thead>\n",
              "  <tbody>\n",
              "    <tr>\n",
              "      <th>0</th>\n",
              "      <td>3015552</td>\n",
              "      <td>中古マンション等</td>\n",
              "      <td>3201</td>\n",
              "      <td>岩手県</td>\n",
              "      <td>盛岡市</td>\n",
              "      <td>東山</td>\n",
              "      <td>盛岡</td>\n",
              "      <td>45.0</td>\n",
              "      <td>1</td>\n",
              "      <td>25</td>\n",
              "      <td>NaN</td>\n",
              "      <td>ＲＣ</td>\n",
              "      <td>第２種中高層住居専用地域</td>\n",
              "      <td>60.0</td>\n",
              "      <td>200.0</td>\n",
              "      <td>2015年第2四半期</td>\n",
              "      <td>0</td>\n",
              "      <td>6.301030</td>\n",
              "    </tr>\n",
              "    <tr>\n",
              "      <th>1</th>\n",
              "      <td>3023488</td>\n",
              "      <td>中古マンション等</td>\n",
              "      <td>3201</td>\n",
              "      <td>岩手県</td>\n",
              "      <td>盛岡市</td>\n",
              "      <td>本町通</td>\n",
              "      <td>上盛岡</td>\n",
              "      <td>1.0</td>\n",
              "      <td>4</td>\n",
              "      <td>90</td>\n",
              "      <td>1999.0</td>\n",
              "      <td>ＳＲＣ</td>\n",
              "      <td>近隣商業地域</td>\n",
              "      <td>80.0</td>\n",
              "      <td>200.0</td>\n",
              "      <td>2008年第1四半期</td>\n",
              "      <td>0</td>\n",
              "      <td>7.380211</td>\n",
              "    </tr>\n",
              "    <tr>\n",
              "      <th>2</th>\n",
              "      <td>3001812</td>\n",
              "      <td>中古マンション等</td>\n",
              "      <td>3201</td>\n",
              "      <td>岩手県</td>\n",
              "      <td>盛岡市</td>\n",
              "      <td>中央通</td>\n",
              "      <td>盛岡</td>\n",
              "      <td>15.0</td>\n",
              "      <td>4</td>\n",
              "      <td>90</td>\n",
              "      <td>2015.0</td>\n",
              "      <td>ＲＣ</td>\n",
              "      <td>商業地域</td>\n",
              "      <td>80.0</td>\n",
              "      <td>600.0</td>\n",
              "      <td>2019年第4四半期</td>\n",
              "      <td>0</td>\n",
              "      <td>7.568202</td>\n",
              "    </tr>\n",
              "    <tr>\n",
              "      <th>3</th>\n",
              "      <td>3009546</td>\n",
              "      <td>中古マンション等</td>\n",
              "      <td>3201</td>\n",
              "      <td>岩手県</td>\n",
              "      <td>盛岡市</td>\n",
              "      <td>大沢川原</td>\n",
              "      <td>盛岡</td>\n",
              "      <td>11.0</td>\n",
              "      <td>3</td>\n",
              "      <td>75</td>\n",
              "      <td>NaN</td>\n",
              "      <td>ＲＣ</td>\n",
              "      <td>商業地域</td>\n",
              "      <td>80.0</td>\n",
              "      <td>400.0</td>\n",
              "      <td>2010年第4四半期</td>\n",
              "      <td>0</td>\n",
              "      <td>7.278754</td>\n",
              "    </tr>\n",
              "    <tr>\n",
              "      <th>4</th>\n",
              "      <td>3018911</td>\n",
              "      <td>中古マンション等</td>\n",
              "      <td>3201</td>\n",
              "      <td>岩手県</td>\n",
              "      <td>盛岡市</td>\n",
              "      <td>材木町</td>\n",
              "      <td>盛岡</td>\n",
              "      <td>10.0</td>\n",
              "      <td>3</td>\n",
              "      <td>65</td>\n",
              "      <td>1985.0</td>\n",
              "      <td>ＳＲＣ</td>\n",
              "      <td>商業地域</td>\n",
              "      <td>80.0</td>\n",
              "      <td>400.0</td>\n",
              "      <td>2008年第4四半期</td>\n",
              "      <td>0</td>\n",
              "      <td>6.982271</td>\n",
              "    </tr>\n",
              "  </tbody>\n",
              "</table>\n",
              "</div>\n",
              "      <button class=\"colab-df-convert\" onclick=\"convertToInteractive('df-ce8b8c0b-b0fa-4530-a8b5-91d059bceab9')\"\n",
              "              title=\"Convert this dataframe to an interactive table.\"\n",
              "              style=\"display:none;\">\n",
              "        \n",
              "  <svg xmlns=\"http://www.w3.org/2000/svg\" height=\"24px\"viewBox=\"0 0 24 24\"\n",
              "       width=\"24px\">\n",
              "    <path d=\"M0 0h24v24H0V0z\" fill=\"none\"/>\n",
              "    <path d=\"M18.56 5.44l.94 2.06.94-2.06 2.06-.94-2.06-.94-.94-2.06-.94 2.06-2.06.94zm-11 1L8.5 8.5l.94-2.06 2.06-.94-2.06-.94L8.5 2.5l-.94 2.06-2.06.94zm10 10l.94 2.06.94-2.06 2.06-.94-2.06-.94-.94-2.06-.94 2.06-2.06.94z\"/><path d=\"M17.41 7.96l-1.37-1.37c-.4-.4-.92-.59-1.43-.59-.52 0-1.04.2-1.43.59L10.3 9.45l-7.72 7.72c-.78.78-.78 2.05 0 2.83L4 21.41c.39.39.9.59 1.41.59.51 0 1.02-.2 1.41-.59l7.78-7.78 2.81-2.81c.8-.78.8-2.07 0-2.86zM5.41 20L4 18.59l7.72-7.72 1.47 1.35L5.41 20z\"/>\n",
              "  </svg>\n",
              "      </button>\n",
              "      \n",
              "  <style>\n",
              "    .colab-df-container {\n",
              "      display:flex;\n",
              "      flex-wrap:wrap;\n",
              "      gap: 12px;\n",
              "    }\n",
              "\n",
              "    .colab-df-convert {\n",
              "      background-color: #E8F0FE;\n",
              "      border: none;\n",
              "      border-radius: 50%;\n",
              "      cursor: pointer;\n",
              "      display: none;\n",
              "      fill: #1967D2;\n",
              "      height: 32px;\n",
              "      padding: 0 0 0 0;\n",
              "      width: 32px;\n",
              "    }\n",
              "\n",
              "    .colab-df-convert:hover {\n",
              "      background-color: #E2EBFA;\n",
              "      box-shadow: 0px 1px 2px rgba(60, 64, 67, 0.3), 0px 1px 3px 1px rgba(60, 64, 67, 0.15);\n",
              "      fill: #174EA6;\n",
              "    }\n",
              "\n",
              "    [theme=dark] .colab-df-convert {\n",
              "      background-color: #3B4455;\n",
              "      fill: #D2E3FC;\n",
              "    }\n",
              "\n",
              "    [theme=dark] .colab-df-convert:hover {\n",
              "      background-color: #434B5C;\n",
              "      box-shadow: 0px 1px 3px 1px rgba(0, 0, 0, 0.15);\n",
              "      filter: drop-shadow(0px 1px 2px rgba(0, 0, 0, 0.3));\n",
              "      fill: #FFFFFF;\n",
              "    }\n",
              "  </style>\n",
              "\n",
              "      <script>\n",
              "        const buttonEl =\n",
              "          document.querySelector('#df-ce8b8c0b-b0fa-4530-a8b5-91d059bceab9 button.colab-df-convert');\n",
              "        buttonEl.style.display =\n",
              "          google.colab.kernel.accessAllowed ? 'block' : 'none';\n",
              "\n",
              "        async function convertToInteractive(key) {\n",
              "          const element = document.querySelector('#df-ce8b8c0b-b0fa-4530-a8b5-91d059bceab9');\n",
              "          const dataTable =\n",
              "            await google.colab.kernel.invokeFunction('convertToInteractive',\n",
              "                                                     [key], {});\n",
              "          if (!dataTable) return;\n",
              "\n",
              "          const docLinkHtml = 'Like what you see? Visit the ' +\n",
              "            '<a target=\"_blank\" href=https://colab.research.google.com/notebooks/data_table.ipynb>data table notebook</a>'\n",
              "            + ' to learn more about interactive tables.';\n",
              "          element.innerHTML = '';\n",
              "          dataTable['output_type'] = 'display_data';\n",
              "          await google.colab.output.renderOutput(dataTable, element);\n",
              "          const docLink = document.createElement('div');\n",
              "          docLink.innerHTML = docLinkHtml;\n",
              "          element.appendChild(docLink);\n",
              "        }\n",
              "      </script>\n",
              "    </div>\n",
              "  </div>\n",
              "  "
            ]
          },
          "metadata": {},
          "execution_count": 20
        }
      ]
    },
    {
      "cell_type": "markdown",
      "source": [
        "## 1_2 種類"
      ],
      "metadata": {
        "id": "o4jso_x6jR5T"
      }
    },
    {
      "cell_type": "code",
      "source": [
        "df['種類'].unique()"
      ],
      "metadata": {
        "id": "0oKX11wMk_Sh",
        "colab": {
          "base_uri": "https://localhost:8080/"
        },
        "outputId": "08f88a10-3f0f-4881-a6fc-8e1847dc88ec"
      },
      "execution_count": null,
      "outputs": [
        {
          "output_type": "execute_result",
          "data": {
            "text/plain": [
              "array(['中古マンション等'], dtype=object)"
            ]
          },
          "metadata": {},
          "execution_count": 21
        }
      ]
    },
    {
      "cell_type": "markdown",
      "source": [
        "これしかないのでのでcut"
      ],
      "metadata": {
        "id": "kKrrExTQj-10"
      }
    },
    {
      "cell_type": "code",
      "source": [
        "df = df.drop('種類', axis = 1)"
      ],
      "metadata": {
        "id": "i7OJVg5iZC_f"
      },
      "execution_count": null,
      "outputs": []
    },
    {
      "cell_type": "markdown",
      "source": [
        "## 1_3 都市計画"
      ],
      "metadata": {
        "id": "YyabSnP_kV5D"
      }
    },
    {
      "cell_type": "code",
      "source": [
        "df['都市計画']"
      ],
      "metadata": {
        "colab": {
          "base_uri": "https://localhost:8080/"
        },
        "id": "jEzBG0gknWg7",
        "outputId": "0ed6225b-cbd5-4afc-bfdc-40e97ec4ef20"
      },
      "execution_count": null,
      "outputs": [
        {
          "output_type": "execute_result",
          "data": {
            "text/plain": [
              "0         第２種中高層住居専用地域\n",
              "1               近隣商業地域\n",
              "2                 商業地域\n",
              "3                 商業地域\n",
              "4                 商業地域\n",
              "              ...     \n",
              "736705         第２種住居地域\n",
              "736706            商業地域\n",
              "736707          近隣商業地域\n",
              "736708    第２種中高層住居専用地域\n",
              "736709         第２種住居地域\n",
              "Name: 都市計画, Length: 736710, dtype: object"
            ]
          },
          "metadata": {},
          "execution_count": 23
        }
      ]
    },
    {
      "cell_type": "code",
      "source": [
        "df['都市計画'].unique()"
      ],
      "metadata": {
        "colab": {
          "base_uri": "https://localhost:8080/"
        },
        "id": "gNQh49Nfkiqy",
        "outputId": "9ff91b97-8db9-4d21-c4d0-14412e75c8f9"
      },
      "execution_count": null,
      "outputs": [
        {
          "output_type": "execute_result",
          "data": {
            "text/plain": [
              "array(['第２種中高層住居専用地域', '近隣商業地域', '商業地域', '第１種住居地域', nan, '第２種住居地域',\n",
              "       '第１種中高層住居専用地域', '都市計画区域外', '準工業地域', '市街化区域及び市街化調整区域外の都市計画区域',\n",
              "       '第１種低層住居専用地域', '準住居地域', '第２種低層住居専用地域', '工業地域', '工業専用地域', '市街化調整区域',\n",
              "       '準都市計画区域'], dtype=object)"
            ]
          },
          "metadata": {},
          "execution_count": 24
        }
      ]
    },
    {
      "cell_type": "code",
      "source": [
        "def toshikeikaku(x):\n",
        "  if '中高層住居専用地域' in str(x):\n",
        "    y = '高層'\n",
        "  elif '商業地域' in str(x):\n",
        "    y = '商業'\n",
        "  elif '住居地域' in str(x):\n",
        "    y = '住居'\n",
        "  elif '工業' in str(x):\n",
        "    y = '工業'\n",
        "  else:\n",
        "    y = 'その他'\n",
        "  return y"
      ],
      "metadata": {
        "id": "lOvGTG3Fk5q8"
      },
      "execution_count": null,
      "outputs": []
    },
    {
      "cell_type": "code",
      "source": [
        "df['都市計画']=df['都市計画'].apply(lambda x : toshikeikaku(x))"
      ],
      "metadata": {
        "id": "mpCxntOYlwbH"
      },
      "execution_count": null,
      "outputs": []
    },
    {
      "cell_type": "code",
      "source": [
        "df['都市計画']"
      ],
      "metadata": {
        "colab": {
          "base_uri": "https://localhost:8080/"
        },
        "id": "lbdxbwXnnFfU",
        "outputId": "58a18ef0-1410-47b6-ee03-f8064a899537"
      },
      "execution_count": null,
      "outputs": [
        {
          "output_type": "execute_result",
          "data": {
            "text/plain": [
              "0         高層\n",
              "1         商業\n",
              "2         商業\n",
              "3         商業\n",
              "4         商業\n",
              "          ..\n",
              "736705    住居\n",
              "736706    商業\n",
              "736707    商業\n",
              "736708    高層\n",
              "736709    住居\n",
              "Name: 都市計画, Length: 736710, dtype: object"
            ]
          },
          "metadata": {},
          "execution_count": 27
        }
      ]
    },
    {
      "cell_type": "code",
      "source": [
        "df_dummies=pd.get_dummies(df['都市計画'])\n",
        "#mushroom_dummy = pd.get_dummies(mushroom[['gill_color', 'gill_attachment', 'odor', 'cap_color']])"
      ],
      "metadata": {
        "id": "pX0sPMB3okcB"
      },
      "execution_count": null,
      "outputs": []
    },
    {
      "cell_type": "code",
      "source": [
        "df = pd.concat([df, df_dummies] , axis = 1)"
      ],
      "metadata": {
        "id": "TtdO0q6wpC6k"
      },
      "execution_count": null,
      "outputs": []
    },
    {
      "cell_type": "code",
      "source": [
        "df.head()"
      ],
      "metadata": {
        "colab": {
          "base_uri": "https://localhost:8080/",
          "height": 498
        },
        "id": "GmQUIz8squ7k",
        "outputId": "5c6a4c54-9cda-4111-e93d-b84bb6d6aeba"
      },
      "execution_count": null,
      "outputs": [
        {
          "output_type": "execute_result",
          "data": {
            "text/plain": [
              "        ID  市区町村コード 都道府県名 市区町村名   地区名 最寄駅：名称  最寄駅：距離（分）  間取り  面積（㎡）     建築年  \\\n",
              "0  3015552     3201   岩手県   盛岡市    東山     盛岡       45.0    1     25     NaN   \n",
              "1  3023488     3201   岩手県   盛岡市   本町通    上盛岡        1.0    4     90  1999.0   \n",
              "2  3001812     3201   岩手県   盛岡市   中央通     盛岡       15.0    4     90  2015.0   \n",
              "3  3009546     3201   岩手県   盛岡市  大沢川原     盛岡       11.0    3     75     NaN   \n",
              "4  3018911     3201   岩手県   盛岡市   材木町     盛岡       10.0    3     65  1985.0   \n",
              "\n",
              "   ... 建ぺい率（％） 容積率（％）        取引時点  改装 取引価格（総額）_log  その他  住居  商業  工業  高層  \n",
              "0  ...    60.0  200.0  2015年第2四半期   0     6.301030    0   0   0   0   1  \n",
              "1  ...    80.0  200.0  2008年第1四半期   0     7.380211    0   0   1   0   0  \n",
              "2  ...    80.0  600.0  2019年第4四半期   0     7.568202    0   0   1   0   0  \n",
              "3  ...    80.0  400.0  2010年第4四半期   0     7.278754    0   0   1   0   0  \n",
              "4  ...    80.0  400.0  2008年第4四半期   0     6.982271    0   0   1   0   0  \n",
              "\n",
              "[5 rows x 22 columns]"
            ],
            "text/html": [
              "\n",
              "  <div id=\"df-9c221590-c376-42a2-9317-ab56dcc37fb1\">\n",
              "    <div class=\"colab-df-container\">\n",
              "      <div>\n",
              "<style scoped>\n",
              "    .dataframe tbody tr th:only-of-type {\n",
              "        vertical-align: middle;\n",
              "    }\n",
              "\n",
              "    .dataframe tbody tr th {\n",
              "        vertical-align: top;\n",
              "    }\n",
              "\n",
              "    .dataframe thead th {\n",
              "        text-align: right;\n",
              "    }\n",
              "</style>\n",
              "<table border=\"1\" class=\"dataframe\">\n",
              "  <thead>\n",
              "    <tr style=\"text-align: right;\">\n",
              "      <th></th>\n",
              "      <th>ID</th>\n",
              "      <th>市区町村コード</th>\n",
              "      <th>都道府県名</th>\n",
              "      <th>市区町村名</th>\n",
              "      <th>地区名</th>\n",
              "      <th>最寄駅：名称</th>\n",
              "      <th>最寄駅：距離（分）</th>\n",
              "      <th>間取り</th>\n",
              "      <th>面積（㎡）</th>\n",
              "      <th>建築年</th>\n",
              "      <th>...</th>\n",
              "      <th>建ぺい率（％）</th>\n",
              "      <th>容積率（％）</th>\n",
              "      <th>取引時点</th>\n",
              "      <th>改装</th>\n",
              "      <th>取引価格（総額）_log</th>\n",
              "      <th>その他</th>\n",
              "      <th>住居</th>\n",
              "      <th>商業</th>\n",
              "      <th>工業</th>\n",
              "      <th>高層</th>\n",
              "    </tr>\n",
              "  </thead>\n",
              "  <tbody>\n",
              "    <tr>\n",
              "      <th>0</th>\n",
              "      <td>3015552</td>\n",
              "      <td>3201</td>\n",
              "      <td>岩手県</td>\n",
              "      <td>盛岡市</td>\n",
              "      <td>東山</td>\n",
              "      <td>盛岡</td>\n",
              "      <td>45.0</td>\n",
              "      <td>1</td>\n",
              "      <td>25</td>\n",
              "      <td>NaN</td>\n",
              "      <td>...</td>\n",
              "      <td>60.0</td>\n",
              "      <td>200.0</td>\n",
              "      <td>2015年第2四半期</td>\n",
              "      <td>0</td>\n",
              "      <td>6.301030</td>\n",
              "      <td>0</td>\n",
              "      <td>0</td>\n",
              "      <td>0</td>\n",
              "      <td>0</td>\n",
              "      <td>1</td>\n",
              "    </tr>\n",
              "    <tr>\n",
              "      <th>1</th>\n",
              "      <td>3023488</td>\n",
              "      <td>3201</td>\n",
              "      <td>岩手県</td>\n",
              "      <td>盛岡市</td>\n",
              "      <td>本町通</td>\n",
              "      <td>上盛岡</td>\n",
              "      <td>1.0</td>\n",
              "      <td>4</td>\n",
              "      <td>90</td>\n",
              "      <td>1999.0</td>\n",
              "      <td>...</td>\n",
              "      <td>80.0</td>\n",
              "      <td>200.0</td>\n",
              "      <td>2008年第1四半期</td>\n",
              "      <td>0</td>\n",
              "      <td>7.380211</td>\n",
              "      <td>0</td>\n",
              "      <td>0</td>\n",
              "      <td>1</td>\n",
              "      <td>0</td>\n",
              "      <td>0</td>\n",
              "    </tr>\n",
              "    <tr>\n",
              "      <th>2</th>\n",
              "      <td>3001812</td>\n",
              "      <td>3201</td>\n",
              "      <td>岩手県</td>\n",
              "      <td>盛岡市</td>\n",
              "      <td>中央通</td>\n",
              "      <td>盛岡</td>\n",
              "      <td>15.0</td>\n",
              "      <td>4</td>\n",
              "      <td>90</td>\n",
              "      <td>2015.0</td>\n",
              "      <td>...</td>\n",
              "      <td>80.0</td>\n",
              "      <td>600.0</td>\n",
              "      <td>2019年第4四半期</td>\n",
              "      <td>0</td>\n",
              "      <td>7.568202</td>\n",
              "      <td>0</td>\n",
              "      <td>0</td>\n",
              "      <td>1</td>\n",
              "      <td>0</td>\n",
              "      <td>0</td>\n",
              "    </tr>\n",
              "    <tr>\n",
              "      <th>3</th>\n",
              "      <td>3009546</td>\n",
              "      <td>3201</td>\n",
              "      <td>岩手県</td>\n",
              "      <td>盛岡市</td>\n",
              "      <td>大沢川原</td>\n",
              "      <td>盛岡</td>\n",
              "      <td>11.0</td>\n",
              "      <td>3</td>\n",
              "      <td>75</td>\n",
              "      <td>NaN</td>\n",
              "      <td>...</td>\n",
              "      <td>80.0</td>\n",
              "      <td>400.0</td>\n",
              "      <td>2010年第4四半期</td>\n",
              "      <td>0</td>\n",
              "      <td>7.278754</td>\n",
              "      <td>0</td>\n",
              "      <td>0</td>\n",
              "      <td>1</td>\n",
              "      <td>0</td>\n",
              "      <td>0</td>\n",
              "    </tr>\n",
              "    <tr>\n",
              "      <th>4</th>\n",
              "      <td>3018911</td>\n",
              "      <td>3201</td>\n",
              "      <td>岩手県</td>\n",
              "      <td>盛岡市</td>\n",
              "      <td>材木町</td>\n",
              "      <td>盛岡</td>\n",
              "      <td>10.0</td>\n",
              "      <td>3</td>\n",
              "      <td>65</td>\n",
              "      <td>1985.0</td>\n",
              "      <td>...</td>\n",
              "      <td>80.0</td>\n",
              "      <td>400.0</td>\n",
              "      <td>2008年第4四半期</td>\n",
              "      <td>0</td>\n",
              "      <td>6.982271</td>\n",
              "      <td>0</td>\n",
              "      <td>0</td>\n",
              "      <td>1</td>\n",
              "      <td>0</td>\n",
              "      <td>0</td>\n",
              "    </tr>\n",
              "  </tbody>\n",
              "</table>\n",
              "<p>5 rows × 22 columns</p>\n",
              "</div>\n",
              "      <button class=\"colab-df-convert\" onclick=\"convertToInteractive('df-9c221590-c376-42a2-9317-ab56dcc37fb1')\"\n",
              "              title=\"Convert this dataframe to an interactive table.\"\n",
              "              style=\"display:none;\">\n",
              "        \n",
              "  <svg xmlns=\"http://www.w3.org/2000/svg\" height=\"24px\"viewBox=\"0 0 24 24\"\n",
              "       width=\"24px\">\n",
              "    <path d=\"M0 0h24v24H0V0z\" fill=\"none\"/>\n",
              "    <path d=\"M18.56 5.44l.94 2.06.94-2.06 2.06-.94-2.06-.94-.94-2.06-.94 2.06-2.06.94zm-11 1L8.5 8.5l.94-2.06 2.06-.94-2.06-.94L8.5 2.5l-.94 2.06-2.06.94zm10 10l.94 2.06.94-2.06 2.06-.94-2.06-.94-.94-2.06-.94 2.06-2.06.94z\"/><path d=\"M17.41 7.96l-1.37-1.37c-.4-.4-.92-.59-1.43-.59-.52 0-1.04.2-1.43.59L10.3 9.45l-7.72 7.72c-.78.78-.78 2.05 0 2.83L4 21.41c.39.39.9.59 1.41.59.51 0 1.02-.2 1.41-.59l7.78-7.78 2.81-2.81c.8-.78.8-2.07 0-2.86zM5.41 20L4 18.59l7.72-7.72 1.47 1.35L5.41 20z\"/>\n",
              "  </svg>\n",
              "      </button>\n",
              "      \n",
              "  <style>\n",
              "    .colab-df-container {\n",
              "      display:flex;\n",
              "      flex-wrap:wrap;\n",
              "      gap: 12px;\n",
              "    }\n",
              "\n",
              "    .colab-df-convert {\n",
              "      background-color: #E8F0FE;\n",
              "      border: none;\n",
              "      border-radius: 50%;\n",
              "      cursor: pointer;\n",
              "      display: none;\n",
              "      fill: #1967D2;\n",
              "      height: 32px;\n",
              "      padding: 0 0 0 0;\n",
              "      width: 32px;\n",
              "    }\n",
              "\n",
              "    .colab-df-convert:hover {\n",
              "      background-color: #E2EBFA;\n",
              "      box-shadow: 0px 1px 2px rgba(60, 64, 67, 0.3), 0px 1px 3px 1px rgba(60, 64, 67, 0.15);\n",
              "      fill: #174EA6;\n",
              "    }\n",
              "\n",
              "    [theme=dark] .colab-df-convert {\n",
              "      background-color: #3B4455;\n",
              "      fill: #D2E3FC;\n",
              "    }\n",
              "\n",
              "    [theme=dark] .colab-df-convert:hover {\n",
              "      background-color: #434B5C;\n",
              "      box-shadow: 0px 1px 3px 1px rgba(0, 0, 0, 0.15);\n",
              "      filter: drop-shadow(0px 1px 2px rgba(0, 0, 0, 0.3));\n",
              "      fill: #FFFFFF;\n",
              "    }\n",
              "  </style>\n",
              "\n",
              "      <script>\n",
              "        const buttonEl =\n",
              "          document.querySelector('#df-9c221590-c376-42a2-9317-ab56dcc37fb1 button.colab-df-convert');\n",
              "        buttonEl.style.display =\n",
              "          google.colab.kernel.accessAllowed ? 'block' : 'none';\n",
              "\n",
              "        async function convertToInteractive(key) {\n",
              "          const element = document.querySelector('#df-9c221590-c376-42a2-9317-ab56dcc37fb1');\n",
              "          const dataTable =\n",
              "            await google.colab.kernel.invokeFunction('convertToInteractive',\n",
              "                                                     [key], {});\n",
              "          if (!dataTable) return;\n",
              "\n",
              "          const docLinkHtml = 'Like what you see? Visit the ' +\n",
              "            '<a target=\"_blank\" href=https://colab.research.google.com/notebooks/data_table.ipynb>data table notebook</a>'\n",
              "            + ' to learn more about interactive tables.';\n",
              "          element.innerHTML = '';\n",
              "          dataTable['output_type'] = 'display_data';\n",
              "          await google.colab.output.renderOutput(dataTable, element);\n",
              "          const docLink = document.createElement('div');\n",
              "          docLink.innerHTML = docLinkHtml;\n",
              "          element.appendChild(docLink);\n",
              "        }\n",
              "      </script>\n",
              "    </div>\n",
              "  </div>\n",
              "  "
            ]
          },
          "metadata": {},
          "execution_count": 30
        }
      ]
    },
    {
      "cell_type": "markdown",
      "source": [
        "## 1_3' 取引時点も落としちゃう"
      ],
      "metadata": {
        "id": "TznarGf1rHWE"
      }
    },
    {
      "cell_type": "code",
      "source": [
        "df = df.drop(['取引時点', '都市計画'], axis = 1)"
      ],
      "metadata": {
        "id": "OZShmXzArRHT"
      },
      "execution_count": null,
      "outputs": []
    },
    {
      "cell_type": "code",
      "source": [
        "df.head()"
      ],
      "metadata": {
        "colab": {
          "base_uri": "https://localhost:8080/",
          "height": 452
        },
        "id": "0tDeY8wXrdun",
        "outputId": "7cd680c5-7a0e-412b-8c2c-e8319f5ee379"
      },
      "execution_count": null,
      "outputs": [
        {
          "output_type": "execute_result",
          "data": {
            "text/plain": [
              "        ID  市区町村コード 都道府県名 市区町村名   地区名 最寄駅：名称  最寄駅：距離（分）  間取り  面積（㎡）     建築年  \\\n",
              "0  3015552     3201   岩手県   盛岡市    東山     盛岡       45.0    1     25     NaN   \n",
              "1  3023488     3201   岩手県   盛岡市   本町通    上盛岡        1.0    4     90  1999.0   \n",
              "2  3001812     3201   岩手県   盛岡市   中央通     盛岡       15.0    4     90  2015.0   \n",
              "3  3009546     3201   岩手県   盛岡市  大沢川原     盛岡       11.0    3     75     NaN   \n",
              "4  3018911     3201   岩手県   盛岡市   材木町     盛岡       10.0    3     65  1985.0   \n",
              "\n",
              "  建物の構造  建ぺい率（％）  容積率（％）  改装  取引価格（総額）_log  その他  住居  商業  工業  高層  \n",
              "0    ＲＣ     60.0   200.0   0      6.301030    0   0   0   0   1  \n",
              "1   ＳＲＣ     80.0   200.0   0      7.380211    0   0   1   0   0  \n",
              "2    ＲＣ     80.0   600.0   0      7.568202    0   0   1   0   0  \n",
              "3    ＲＣ     80.0   400.0   0      7.278754    0   0   1   0   0  \n",
              "4   ＳＲＣ     80.0   400.0   0      6.982271    0   0   1   0   0  "
            ],
            "text/html": [
              "\n",
              "  <div id=\"df-7afcda9f-aedd-43a1-8bb0-83d347a25912\">\n",
              "    <div class=\"colab-df-container\">\n",
              "      <div>\n",
              "<style scoped>\n",
              "    .dataframe tbody tr th:only-of-type {\n",
              "        vertical-align: middle;\n",
              "    }\n",
              "\n",
              "    .dataframe tbody tr th {\n",
              "        vertical-align: top;\n",
              "    }\n",
              "\n",
              "    .dataframe thead th {\n",
              "        text-align: right;\n",
              "    }\n",
              "</style>\n",
              "<table border=\"1\" class=\"dataframe\">\n",
              "  <thead>\n",
              "    <tr style=\"text-align: right;\">\n",
              "      <th></th>\n",
              "      <th>ID</th>\n",
              "      <th>市区町村コード</th>\n",
              "      <th>都道府県名</th>\n",
              "      <th>市区町村名</th>\n",
              "      <th>地区名</th>\n",
              "      <th>最寄駅：名称</th>\n",
              "      <th>最寄駅：距離（分）</th>\n",
              "      <th>間取り</th>\n",
              "      <th>面積（㎡）</th>\n",
              "      <th>建築年</th>\n",
              "      <th>建物の構造</th>\n",
              "      <th>建ぺい率（％）</th>\n",
              "      <th>容積率（％）</th>\n",
              "      <th>改装</th>\n",
              "      <th>取引価格（総額）_log</th>\n",
              "      <th>その他</th>\n",
              "      <th>住居</th>\n",
              "      <th>商業</th>\n",
              "      <th>工業</th>\n",
              "      <th>高層</th>\n",
              "    </tr>\n",
              "  </thead>\n",
              "  <tbody>\n",
              "    <tr>\n",
              "      <th>0</th>\n",
              "      <td>3015552</td>\n",
              "      <td>3201</td>\n",
              "      <td>岩手県</td>\n",
              "      <td>盛岡市</td>\n",
              "      <td>東山</td>\n",
              "      <td>盛岡</td>\n",
              "      <td>45.0</td>\n",
              "      <td>1</td>\n",
              "      <td>25</td>\n",
              "      <td>NaN</td>\n",
              "      <td>ＲＣ</td>\n",
              "      <td>60.0</td>\n",
              "      <td>200.0</td>\n",
              "      <td>0</td>\n",
              "      <td>6.301030</td>\n",
              "      <td>0</td>\n",
              "      <td>0</td>\n",
              "      <td>0</td>\n",
              "      <td>0</td>\n",
              "      <td>1</td>\n",
              "    </tr>\n",
              "    <tr>\n",
              "      <th>1</th>\n",
              "      <td>3023488</td>\n",
              "      <td>3201</td>\n",
              "      <td>岩手県</td>\n",
              "      <td>盛岡市</td>\n",
              "      <td>本町通</td>\n",
              "      <td>上盛岡</td>\n",
              "      <td>1.0</td>\n",
              "      <td>4</td>\n",
              "      <td>90</td>\n",
              "      <td>1999.0</td>\n",
              "      <td>ＳＲＣ</td>\n",
              "      <td>80.0</td>\n",
              "      <td>200.0</td>\n",
              "      <td>0</td>\n",
              "      <td>7.380211</td>\n",
              "      <td>0</td>\n",
              "      <td>0</td>\n",
              "      <td>1</td>\n",
              "      <td>0</td>\n",
              "      <td>0</td>\n",
              "    </tr>\n",
              "    <tr>\n",
              "      <th>2</th>\n",
              "      <td>3001812</td>\n",
              "      <td>3201</td>\n",
              "      <td>岩手県</td>\n",
              "      <td>盛岡市</td>\n",
              "      <td>中央通</td>\n",
              "      <td>盛岡</td>\n",
              "      <td>15.0</td>\n",
              "      <td>4</td>\n",
              "      <td>90</td>\n",
              "      <td>2015.0</td>\n",
              "      <td>ＲＣ</td>\n",
              "      <td>80.0</td>\n",
              "      <td>600.0</td>\n",
              "      <td>0</td>\n",
              "      <td>7.568202</td>\n",
              "      <td>0</td>\n",
              "      <td>0</td>\n",
              "      <td>1</td>\n",
              "      <td>0</td>\n",
              "      <td>0</td>\n",
              "    </tr>\n",
              "    <tr>\n",
              "      <th>3</th>\n",
              "      <td>3009546</td>\n",
              "      <td>3201</td>\n",
              "      <td>岩手県</td>\n",
              "      <td>盛岡市</td>\n",
              "      <td>大沢川原</td>\n",
              "      <td>盛岡</td>\n",
              "      <td>11.0</td>\n",
              "      <td>3</td>\n",
              "      <td>75</td>\n",
              "      <td>NaN</td>\n",
              "      <td>ＲＣ</td>\n",
              "      <td>80.0</td>\n",
              "      <td>400.0</td>\n",
              "      <td>0</td>\n",
              "      <td>7.278754</td>\n",
              "      <td>0</td>\n",
              "      <td>0</td>\n",
              "      <td>1</td>\n",
              "      <td>0</td>\n",
              "      <td>0</td>\n",
              "    </tr>\n",
              "    <tr>\n",
              "      <th>4</th>\n",
              "      <td>3018911</td>\n",
              "      <td>3201</td>\n",
              "      <td>岩手県</td>\n",
              "      <td>盛岡市</td>\n",
              "      <td>材木町</td>\n",
              "      <td>盛岡</td>\n",
              "      <td>10.0</td>\n",
              "      <td>3</td>\n",
              "      <td>65</td>\n",
              "      <td>1985.0</td>\n",
              "      <td>ＳＲＣ</td>\n",
              "      <td>80.0</td>\n",
              "      <td>400.0</td>\n",
              "      <td>0</td>\n",
              "      <td>6.982271</td>\n",
              "      <td>0</td>\n",
              "      <td>0</td>\n",
              "      <td>1</td>\n",
              "      <td>0</td>\n",
              "      <td>0</td>\n",
              "    </tr>\n",
              "  </tbody>\n",
              "</table>\n",
              "</div>\n",
              "      <button class=\"colab-df-convert\" onclick=\"convertToInteractive('df-7afcda9f-aedd-43a1-8bb0-83d347a25912')\"\n",
              "              title=\"Convert this dataframe to an interactive table.\"\n",
              "              style=\"display:none;\">\n",
              "        \n",
              "  <svg xmlns=\"http://www.w3.org/2000/svg\" height=\"24px\"viewBox=\"0 0 24 24\"\n",
              "       width=\"24px\">\n",
              "    <path d=\"M0 0h24v24H0V0z\" fill=\"none\"/>\n",
              "    <path d=\"M18.56 5.44l.94 2.06.94-2.06 2.06-.94-2.06-.94-.94-2.06-.94 2.06-2.06.94zm-11 1L8.5 8.5l.94-2.06 2.06-.94-2.06-.94L8.5 2.5l-.94 2.06-2.06.94zm10 10l.94 2.06.94-2.06 2.06-.94-2.06-.94-.94-2.06-.94 2.06-2.06.94z\"/><path d=\"M17.41 7.96l-1.37-1.37c-.4-.4-.92-.59-1.43-.59-.52 0-1.04.2-1.43.59L10.3 9.45l-7.72 7.72c-.78.78-.78 2.05 0 2.83L4 21.41c.39.39.9.59 1.41.59.51 0 1.02-.2 1.41-.59l7.78-7.78 2.81-2.81c.8-.78.8-2.07 0-2.86zM5.41 20L4 18.59l7.72-7.72 1.47 1.35L5.41 20z\"/>\n",
              "  </svg>\n",
              "      </button>\n",
              "      \n",
              "  <style>\n",
              "    .colab-df-container {\n",
              "      display:flex;\n",
              "      flex-wrap:wrap;\n",
              "      gap: 12px;\n",
              "    }\n",
              "\n",
              "    .colab-df-convert {\n",
              "      background-color: #E8F0FE;\n",
              "      border: none;\n",
              "      border-radius: 50%;\n",
              "      cursor: pointer;\n",
              "      display: none;\n",
              "      fill: #1967D2;\n",
              "      height: 32px;\n",
              "      padding: 0 0 0 0;\n",
              "      width: 32px;\n",
              "    }\n",
              "\n",
              "    .colab-df-convert:hover {\n",
              "      background-color: #E2EBFA;\n",
              "      box-shadow: 0px 1px 2px rgba(60, 64, 67, 0.3), 0px 1px 3px 1px rgba(60, 64, 67, 0.15);\n",
              "      fill: #174EA6;\n",
              "    }\n",
              "\n",
              "    [theme=dark] .colab-df-convert {\n",
              "      background-color: #3B4455;\n",
              "      fill: #D2E3FC;\n",
              "    }\n",
              "\n",
              "    [theme=dark] .colab-df-convert:hover {\n",
              "      background-color: #434B5C;\n",
              "      box-shadow: 0px 1px 3px 1px rgba(0, 0, 0, 0.15);\n",
              "      filter: drop-shadow(0px 1px 2px rgba(0, 0, 0, 0.3));\n",
              "      fill: #FFFFFF;\n",
              "    }\n",
              "  </style>\n",
              "\n",
              "      <script>\n",
              "        const buttonEl =\n",
              "          document.querySelector('#df-7afcda9f-aedd-43a1-8bb0-83d347a25912 button.colab-df-convert');\n",
              "        buttonEl.style.display =\n",
              "          google.colab.kernel.accessAllowed ? 'block' : 'none';\n",
              "\n",
              "        async function convertToInteractive(key) {\n",
              "          const element = document.querySelector('#df-7afcda9f-aedd-43a1-8bb0-83d347a25912');\n",
              "          const dataTable =\n",
              "            await google.colab.kernel.invokeFunction('convertToInteractive',\n",
              "                                                     [key], {});\n",
              "          if (!dataTable) return;\n",
              "\n",
              "          const docLinkHtml = 'Like what you see? Visit the ' +\n",
              "            '<a target=\"_blank\" href=https://colab.research.google.com/notebooks/data_table.ipynb>data table notebook</a>'\n",
              "            + ' to learn more about interactive tables.';\n",
              "          element.innerHTML = '';\n",
              "          dataTable['output_type'] = 'display_data';\n",
              "          await google.colab.output.renderOutput(dataTable, element);\n",
              "          const docLink = document.createElement('div');\n",
              "          docLink.innerHTML = docLinkHtml;\n",
              "          element.appendChild(docLink);\n",
              "        }\n",
              "      </script>\n",
              "    </div>\n",
              "  </div>\n",
              "  "
            ]
          },
          "metadata": {},
          "execution_count": 32
        }
      ]
    },
    {
      "cell_type": "code",
      "source": [
        "df1_4 = df.copy()"
      ],
      "metadata": {
        "id": "BerrX40nWU3i"
      },
      "execution_count": null,
      "outputs": []
    },
    {
      "cell_type": "markdown",
      "source": [
        "## 1_4 構造"
      ],
      "metadata": {
        "id": "-UWpBNZPWaE2"
      }
    },
    {
      "cell_type": "code",
      "source": [
        "df1_4['建物の構造'].unique()"
      ],
      "metadata": {
        "colab": {
          "base_uri": "https://localhost:8080/"
        },
        "id": "ThkaFOAJWfwZ",
        "outputId": "20449ebb-bfc2-47c9-81e5-e4dd8734d87c"
      },
      "execution_count": null,
      "outputs": [
        {
          "output_type": "execute_result",
          "data": {
            "text/plain": [
              "array(['ＲＣ', 'ＳＲＣ', nan, '鉄骨造', 'ＲＣ、鉄骨造', 'ブロック造', 'ＳＲＣ、ＲＣ', '木造',\n",
              "       'ＲＣ、ブロック造', '軽量鉄骨造', 'ＲＣ、木造', 'ＳＲＣ、鉄骨造', 'ＳＲＣ、ＲＣ、鉄骨造'],\n",
              "      dtype=object)"
            ]
          },
          "metadata": {},
          "execution_count": 34
        }
      ]
    },
    {
      "cell_type": "code",
      "source": [
        "def structure(x):\n",
        "  if 'ＳＲＣ' in str(x):\n",
        "    y = 'SRC'\n",
        "  elif 'ＲＣ' in str(x):\n",
        "    y = 'RC'\n",
        "  else :\n",
        "    y = 'other'\n",
        "  return y"
      ],
      "metadata": {
        "id": "Umk3_GkIXYME"
      },
      "execution_count": null,
      "outputs": []
    },
    {
      "cell_type": "code",
      "source": [
        "df1_4['建物の構造']=df1_4['建物の構造'].apply(lambda x : structure(x))"
      ],
      "metadata": {
        "id": "LWW8mprBYfKx"
      },
      "execution_count": null,
      "outputs": []
    },
    {
      "cell_type": "code",
      "source": [
        "df1_4_dummies = pd.get_dummies(df1_4['建物の構造'])"
      ],
      "metadata": {
        "id": "ghqtDVhwY2xM"
      },
      "execution_count": null,
      "outputs": []
    },
    {
      "cell_type": "code",
      "source": [
        "df1_4 = pd.concat([df1_4, df1_4_dummies], axis = 1)"
      ],
      "metadata": {
        "id": "fSSXpUdUZDMO"
      },
      "execution_count": null,
      "outputs": []
    },
    {
      "cell_type": "code",
      "source": [
        "df1_4 = df1_4.drop(['建物の構造'], axis=1)"
      ],
      "metadata": {
        "id": "DFcBkGPsZRO4"
      },
      "execution_count": null,
      "outputs": []
    },
    {
      "cell_type": "code",
      "source": [
        "pd.get_option(\"display.max_columns\")\n",
        "pd.set_option('display.max_columns', 50)\n",
        "df1_4.head()"
      ],
      "metadata": {
        "colab": {
          "base_uri": "https://localhost:8080/",
          "height": 503
        },
        "id": "Rv3gv2calc5w",
        "outputId": "f188fdc9-22d3-4725-808c-131c02b16302"
      },
      "execution_count": null,
      "outputs": [
        {
          "output_type": "execute_result",
          "data": {
            "text/plain": [
              "        ID  市区町村コード 都道府県名 市区町村名   地区名 最寄駅：名称  最寄駅：距離（分）  間取り  面積（㎡）     建築年  \\\n",
              "0  3015552     3201   岩手県   盛岡市    東山     盛岡       45.0    1     25     NaN   \n",
              "1  3023488     3201   岩手県   盛岡市   本町通    上盛岡        1.0    4     90  1999.0   \n",
              "2  3001812     3201   岩手県   盛岡市   中央通     盛岡       15.0    4     90  2015.0   \n",
              "3  3009546     3201   岩手県   盛岡市  大沢川原     盛岡       11.0    3     75     NaN   \n",
              "4  3018911     3201   岩手県   盛岡市   材木町     盛岡       10.0    3     65  1985.0   \n",
              "\n",
              "   建ぺい率（％）  容積率（％）  改装  取引価格（総額）_log  その他  住居  商業  工業  高層  RC  SRC  other  \n",
              "0     60.0   200.0   0      6.301030    0   0   0   0   1   1    0      0  \n",
              "1     80.0   200.0   0      7.380211    0   0   1   0   0   0    1      0  \n",
              "2     80.0   600.0   0      7.568202    0   0   1   0   0   1    0      0  \n",
              "3     80.0   400.0   0      7.278754    0   0   1   0   0   1    0      0  \n",
              "4     80.0   400.0   0      6.982271    0   0   1   0   0   0    1      0  "
            ],
            "text/html": [
              "\n",
              "  <div id=\"df-7bb01182-3be3-4b91-aa3d-77d0266f1b3b\">\n",
              "    <div class=\"colab-df-container\">\n",
              "      <div>\n",
              "<style scoped>\n",
              "    .dataframe tbody tr th:only-of-type {\n",
              "        vertical-align: middle;\n",
              "    }\n",
              "\n",
              "    .dataframe tbody tr th {\n",
              "        vertical-align: top;\n",
              "    }\n",
              "\n",
              "    .dataframe thead th {\n",
              "        text-align: right;\n",
              "    }\n",
              "</style>\n",
              "<table border=\"1\" class=\"dataframe\">\n",
              "  <thead>\n",
              "    <tr style=\"text-align: right;\">\n",
              "      <th></th>\n",
              "      <th>ID</th>\n",
              "      <th>市区町村コード</th>\n",
              "      <th>都道府県名</th>\n",
              "      <th>市区町村名</th>\n",
              "      <th>地区名</th>\n",
              "      <th>最寄駅：名称</th>\n",
              "      <th>最寄駅：距離（分）</th>\n",
              "      <th>間取り</th>\n",
              "      <th>面積（㎡）</th>\n",
              "      <th>建築年</th>\n",
              "      <th>建ぺい率（％）</th>\n",
              "      <th>容積率（％）</th>\n",
              "      <th>改装</th>\n",
              "      <th>取引価格（総額）_log</th>\n",
              "      <th>その他</th>\n",
              "      <th>住居</th>\n",
              "      <th>商業</th>\n",
              "      <th>工業</th>\n",
              "      <th>高層</th>\n",
              "      <th>RC</th>\n",
              "      <th>SRC</th>\n",
              "      <th>other</th>\n",
              "    </tr>\n",
              "  </thead>\n",
              "  <tbody>\n",
              "    <tr>\n",
              "      <th>0</th>\n",
              "      <td>3015552</td>\n",
              "      <td>3201</td>\n",
              "      <td>岩手県</td>\n",
              "      <td>盛岡市</td>\n",
              "      <td>東山</td>\n",
              "      <td>盛岡</td>\n",
              "      <td>45.0</td>\n",
              "      <td>1</td>\n",
              "      <td>25</td>\n",
              "      <td>NaN</td>\n",
              "      <td>60.0</td>\n",
              "      <td>200.0</td>\n",
              "      <td>0</td>\n",
              "      <td>6.301030</td>\n",
              "      <td>0</td>\n",
              "      <td>0</td>\n",
              "      <td>0</td>\n",
              "      <td>0</td>\n",
              "      <td>1</td>\n",
              "      <td>1</td>\n",
              "      <td>0</td>\n",
              "      <td>0</td>\n",
              "    </tr>\n",
              "    <tr>\n",
              "      <th>1</th>\n",
              "      <td>3023488</td>\n",
              "      <td>3201</td>\n",
              "      <td>岩手県</td>\n",
              "      <td>盛岡市</td>\n",
              "      <td>本町通</td>\n",
              "      <td>上盛岡</td>\n",
              "      <td>1.0</td>\n",
              "      <td>4</td>\n",
              "      <td>90</td>\n",
              "      <td>1999.0</td>\n",
              "      <td>80.0</td>\n",
              "      <td>200.0</td>\n",
              "      <td>0</td>\n",
              "      <td>7.380211</td>\n",
              "      <td>0</td>\n",
              "      <td>0</td>\n",
              "      <td>1</td>\n",
              "      <td>0</td>\n",
              "      <td>0</td>\n",
              "      <td>0</td>\n",
              "      <td>1</td>\n",
              "      <td>0</td>\n",
              "    </tr>\n",
              "    <tr>\n",
              "      <th>2</th>\n",
              "      <td>3001812</td>\n",
              "      <td>3201</td>\n",
              "      <td>岩手県</td>\n",
              "      <td>盛岡市</td>\n",
              "      <td>中央通</td>\n",
              "      <td>盛岡</td>\n",
              "      <td>15.0</td>\n",
              "      <td>4</td>\n",
              "      <td>90</td>\n",
              "      <td>2015.0</td>\n",
              "      <td>80.0</td>\n",
              "      <td>600.0</td>\n",
              "      <td>0</td>\n",
              "      <td>7.568202</td>\n",
              "      <td>0</td>\n",
              "      <td>0</td>\n",
              "      <td>1</td>\n",
              "      <td>0</td>\n",
              "      <td>0</td>\n",
              "      <td>1</td>\n",
              "      <td>0</td>\n",
              "      <td>0</td>\n",
              "    </tr>\n",
              "    <tr>\n",
              "      <th>3</th>\n",
              "      <td>3009546</td>\n",
              "      <td>3201</td>\n",
              "      <td>岩手県</td>\n",
              "      <td>盛岡市</td>\n",
              "      <td>大沢川原</td>\n",
              "      <td>盛岡</td>\n",
              "      <td>11.0</td>\n",
              "      <td>3</td>\n",
              "      <td>75</td>\n",
              "      <td>NaN</td>\n",
              "      <td>80.0</td>\n",
              "      <td>400.0</td>\n",
              "      <td>0</td>\n",
              "      <td>7.278754</td>\n",
              "      <td>0</td>\n",
              "      <td>0</td>\n",
              "      <td>1</td>\n",
              "      <td>0</td>\n",
              "      <td>0</td>\n",
              "      <td>1</td>\n",
              "      <td>0</td>\n",
              "      <td>0</td>\n",
              "    </tr>\n",
              "    <tr>\n",
              "      <th>4</th>\n",
              "      <td>3018911</td>\n",
              "      <td>3201</td>\n",
              "      <td>岩手県</td>\n",
              "      <td>盛岡市</td>\n",
              "      <td>材木町</td>\n",
              "      <td>盛岡</td>\n",
              "      <td>10.0</td>\n",
              "      <td>3</td>\n",
              "      <td>65</td>\n",
              "      <td>1985.0</td>\n",
              "      <td>80.0</td>\n",
              "      <td>400.0</td>\n",
              "      <td>0</td>\n",
              "      <td>6.982271</td>\n",
              "      <td>0</td>\n",
              "      <td>0</td>\n",
              "      <td>1</td>\n",
              "      <td>0</td>\n",
              "      <td>0</td>\n",
              "      <td>0</td>\n",
              "      <td>1</td>\n",
              "      <td>0</td>\n",
              "    </tr>\n",
              "  </tbody>\n",
              "</table>\n",
              "</div>\n",
              "      <button class=\"colab-df-convert\" onclick=\"convertToInteractive('df-7bb01182-3be3-4b91-aa3d-77d0266f1b3b')\"\n",
              "              title=\"Convert this dataframe to an interactive table.\"\n",
              "              style=\"display:none;\">\n",
              "        \n",
              "  <svg xmlns=\"http://www.w3.org/2000/svg\" height=\"24px\"viewBox=\"0 0 24 24\"\n",
              "       width=\"24px\">\n",
              "    <path d=\"M0 0h24v24H0V0z\" fill=\"none\"/>\n",
              "    <path d=\"M18.56 5.44l.94 2.06.94-2.06 2.06-.94-2.06-.94-.94-2.06-.94 2.06-2.06.94zm-11 1L8.5 8.5l.94-2.06 2.06-.94-2.06-.94L8.5 2.5l-.94 2.06-2.06.94zm10 10l.94 2.06.94-2.06 2.06-.94-2.06-.94-.94-2.06-.94 2.06-2.06.94z\"/><path d=\"M17.41 7.96l-1.37-1.37c-.4-.4-.92-.59-1.43-.59-.52 0-1.04.2-1.43.59L10.3 9.45l-7.72 7.72c-.78.78-.78 2.05 0 2.83L4 21.41c.39.39.9.59 1.41.59.51 0 1.02-.2 1.41-.59l7.78-7.78 2.81-2.81c.8-.78.8-2.07 0-2.86zM5.41 20L4 18.59l7.72-7.72 1.47 1.35L5.41 20z\"/>\n",
              "  </svg>\n",
              "      </button>\n",
              "      \n",
              "  <style>\n",
              "    .colab-df-container {\n",
              "      display:flex;\n",
              "      flex-wrap:wrap;\n",
              "      gap: 12px;\n",
              "    }\n",
              "\n",
              "    .colab-df-convert {\n",
              "      background-color: #E8F0FE;\n",
              "      border: none;\n",
              "      border-radius: 50%;\n",
              "      cursor: pointer;\n",
              "      display: none;\n",
              "      fill: #1967D2;\n",
              "      height: 32px;\n",
              "      padding: 0 0 0 0;\n",
              "      width: 32px;\n",
              "    }\n",
              "\n",
              "    .colab-df-convert:hover {\n",
              "      background-color: #E2EBFA;\n",
              "      box-shadow: 0px 1px 2px rgba(60, 64, 67, 0.3), 0px 1px 3px 1px rgba(60, 64, 67, 0.15);\n",
              "      fill: #174EA6;\n",
              "    }\n",
              "\n",
              "    [theme=dark] .colab-df-convert {\n",
              "      background-color: #3B4455;\n",
              "      fill: #D2E3FC;\n",
              "    }\n",
              "\n",
              "    [theme=dark] .colab-df-convert:hover {\n",
              "      background-color: #434B5C;\n",
              "      box-shadow: 0px 1px 3px 1px rgba(0, 0, 0, 0.15);\n",
              "      filter: drop-shadow(0px 1px 2px rgba(0, 0, 0, 0.3));\n",
              "      fill: #FFFFFF;\n",
              "    }\n",
              "  </style>\n",
              "\n",
              "      <script>\n",
              "        const buttonEl =\n",
              "          document.querySelector('#df-7bb01182-3be3-4b91-aa3d-77d0266f1b3b button.colab-df-convert');\n",
              "        buttonEl.style.display =\n",
              "          google.colab.kernel.accessAllowed ? 'block' : 'none';\n",
              "\n",
              "        async function convertToInteractive(key) {\n",
              "          const element = document.querySelector('#df-7bb01182-3be3-4b91-aa3d-77d0266f1b3b');\n",
              "          const dataTable =\n",
              "            await google.colab.kernel.invokeFunction('convertToInteractive',\n",
              "                                                     [key], {});\n",
              "          if (!dataTable) return;\n",
              "\n",
              "          const docLinkHtml = 'Like what you see? Visit the ' +\n",
              "            '<a target=\"_blank\" href=https://colab.research.google.com/notebooks/data_table.ipynb>data table notebook</a>'\n",
              "            + ' to learn more about interactive tables.';\n",
              "          element.innerHTML = '';\n",
              "          dataTable['output_type'] = 'display_data';\n",
              "          await google.colab.output.renderOutput(dataTable, element);\n",
              "          const docLink = document.createElement('div');\n",
              "          docLink.innerHTML = docLinkHtml;\n",
              "          element.appendChild(docLink);\n",
              "        }\n",
              "      </script>\n",
              "    </div>\n",
              "  </div>\n",
              "  "
            ]
          },
          "metadata": {},
          "execution_count": 40
        }
      ]
    },
    {
      "cell_type": "markdown",
      "source": [
        "## 1_5 建築年, 最寄りまでの距離、建ぺい率を平均で埋める"
      ],
      "metadata": {
        "id": "q4CCPJ-XmROx"
      }
    },
    {
      "cell_type": "code",
      "source": [
        "df1_5 = df1_4.copy()"
      ],
      "metadata": {
        "id": "Wcir90x3mYRT"
      },
      "execution_count": null,
      "outputs": []
    },
    {
      "cell_type": "code",
      "source": [
        "df1_5['建築年'] = df1_5['建築年'].fillna(df1_5['建築年'].mean())"
      ],
      "metadata": {
        "id": "SXr6ogVCm0uE"
      },
      "execution_count": null,
      "outputs": []
    },
    {
      "cell_type": "code",
      "source": [
        "df1_5['建築年'].isna().sum()\n",
        "#df['column name'].isna().sum()"
      ],
      "metadata": {
        "colab": {
          "base_uri": "https://localhost:8080/"
        },
        "id": "PWTdsbFxnplT",
        "outputId": "d65d97f8-c5e1-404f-8cfe-8d8bddc38ffa"
      },
      "execution_count": null,
      "outputs": [
        {
          "output_type": "execute_result",
          "data": {
            "text/plain": [
              "0"
            ]
          },
          "metadata": {},
          "execution_count": 43
        }
      ]
    },
    {
      "cell_type": "code",
      "source": [
        "df1_5['最寄駅：距離（分）'] = df1_5['最寄駅：距離（分）'].fillna(df1_5['最寄駅：距離（分）'].mean())"
      ],
      "metadata": {
        "id": "x4YOOdp9vlQD"
      },
      "execution_count": null,
      "outputs": []
    },
    {
      "cell_type": "code",
      "source": [
        "df1_5[KEMPEI] = df1_5[KEMPEI].fillna(df1_5[KEMPEI].mean())"
      ],
      "metadata": {
        "id": "vukXtdh_v2EH"
      },
      "execution_count": null,
      "outputs": []
    },
    {
      "cell_type": "code",
      "source": [
        "df1_5[FLOOR] = df1_5[FLOOR].fillna(df1_5[FLOOR].mean())"
      ],
      "metadata": {
        "id": "K7DThgXhwaSD"
      },
      "execution_count": null,
      "outputs": []
    },
    {
      "cell_type": "markdown",
      "source": [
        "## 1_6 場所 市区町村でdummies\n"
      ],
      "metadata": {
        "id": "WtQU3RAAqLmO"
      }
    },
    {
      "cell_type": "code",
      "source": [
        "df1_6 = df1_5.copy()"
      ],
      "metadata": {
        "id": "LD78jW7SqSlV"
      },
      "execution_count": null,
      "outputs": []
    },
    {
      "cell_type": "code",
      "source": [
        "df1_6_dummies = pd.get_dummies(df1_6['市区町村名'])\n",
        "df1_6 = df1_6.drop(['市区町村コード', '都道府県名', '地区名', STATION, '市区町村名'], axis =1)"
      ],
      "metadata": {
        "id": "EqVu3qfqrd3I"
      },
      "execution_count": null,
      "outputs": []
    },
    {
      "cell_type": "code",
      "source": [
        "df1_6 = pd.concat([df1_6, df1_6_dummies], axis=1)"
      ],
      "metadata": {
        "id": "CbHRDjxwsLpw"
      },
      "execution_count": null,
      "outputs": []
    },
    {
      "cell_type": "markdown",
      "source": [
        "# テストデータいじり"
      ],
      "metadata": {
        "id": "4T_PKRfV3AEo"
      }
    },
    {
      "cell_type": "code",
      "source": [
        "testdf = test_df[['ID', '種類', '市区町村コード', '都道府県名', '市区町村名', '地区名', '最寄駅：名称',\n",
        "       '最寄駅：距離（分）', '間取り', '面積（㎡）',  '建築年', '建物の構造', '都市計画', '建ぺい率（％）',\n",
        "       '容積率（％）', '取引時点', '改装']]\n",
        "testdf['建築年'] = testdf['建築年'].apply(lambda x: convert_wareki_to_seireki(x))\n",
        "testdf['面積（㎡）'] = testdf['面積（㎡）'].apply(lambda x: normalize_area(x))\n",
        "testdf['最寄駅：距離（分）'] = testdf['最寄駅：距離（分）'].apply(lambda x: normalize_moyori(x))"
      ],
      "metadata": {
        "colab": {
          "base_uri": "https://localhost:8080/"
        },
        "id": "WP24xJod3XDh",
        "outputId": "95105d0d-0acd-45ae-c134-63d2dc72fd8a"
      },
      "execution_count": null,
      "outputs": [
        {
          "output_type": "stream",
          "name": "stderr",
          "text": [
            "<ipython-input-50-b214b16d3423>:4: SettingWithCopyWarning: \n",
            "A value is trying to be set on a copy of a slice from a DataFrame.\n",
            "Try using .loc[row_indexer,col_indexer] = value instead\n",
            "\n",
            "See the caveats in the documentation: https://pandas.pydata.org/pandas-docs/stable/user_guide/indexing.html#returning-a-view-versus-a-copy\n",
            "  testdf['建築年'] = testdf['建築年'].apply(lambda x: convert_wareki_to_seireki(x))\n",
            "<ipython-input-50-b214b16d3423>:5: SettingWithCopyWarning: \n",
            "A value is trying to be set on a copy of a slice from a DataFrame.\n",
            "Try using .loc[row_indexer,col_indexer] = value instead\n",
            "\n",
            "See the caveats in the documentation: https://pandas.pydata.org/pandas-docs/stable/user_guide/indexing.html#returning-a-view-versus-a-copy\n",
            "  testdf['面積（㎡）'] = testdf['面積（㎡）'].apply(lambda x: normalize_area(x))\n",
            "<ipython-input-50-b214b16d3423>:6: SettingWithCopyWarning: \n",
            "A value is trying to be set on a copy of a slice from a DataFrame.\n",
            "Try using .loc[row_indexer,col_indexer] = value instead\n",
            "\n",
            "See the caveats in the documentation: https://pandas.pydata.org/pandas-docs/stable/user_guide/indexing.html#returning-a-view-versus-a-copy\n",
            "  testdf['最寄駅：距離（分）'] = testdf['最寄駅：距離（分）'].apply(lambda x: normalize_moyori(x))\n"
          ]
        }
      ]
    },
    {
      "cell_type": "code",
      "source": [
        "testdf['改装'] = testdf['改装'].map(lambda x: 1 if x == '改装済' else 0)"
      ],
      "metadata": {
        "colab": {
          "base_uri": "https://localhost:8080/"
        },
        "id": "gDWTyyvd3qHU",
        "outputId": "75257bad-1507-4b7c-8792-174f9f224c27"
      },
      "execution_count": null,
      "outputs": [
        {
          "output_type": "stream",
          "name": "stderr",
          "text": [
            "<ipython-input-51-bfee689b5651>:1: SettingWithCopyWarning: \n",
            "A value is trying to be set on a copy of a slice from a DataFrame.\n",
            "Try using .loc[row_indexer,col_indexer] = value instead\n",
            "\n",
            "See the caveats in the documentation: https://pandas.pydata.org/pandas-docs/stable/user_guide/indexing.html#returning-a-view-versus-a-copy\n",
            "  testdf['改装'] = testdf['改装'].map(lambda x: 1 if x == '改装済' else 0)\n"
          ]
        }
      ]
    },
    {
      "cell_type": "code",
      "source": [
        "testdf['間取り'] = testdf['間取り'].apply(lambda x: define_madori(x))"
      ],
      "metadata": {
        "colab": {
          "base_uri": "https://localhost:8080/"
        },
        "id": "FLIBnMFB3wMk",
        "outputId": "0e2ffc16-deb6-4cd1-fc34-36be7868b146"
      },
      "execution_count": null,
      "outputs": [
        {
          "output_type": "stream",
          "name": "stderr",
          "text": [
            "<ipython-input-52-d54616887bef>:1: SettingWithCopyWarning: \n",
            "A value is trying to be set on a copy of a slice from a DataFrame.\n",
            "Try using .loc[row_indexer,col_indexer] = value instead\n",
            "\n",
            "See the caveats in the documentation: https://pandas.pydata.org/pandas-docs/stable/user_guide/indexing.html#returning-a-view-versus-a-copy\n",
            "  testdf['間取り'] = testdf['間取り'].apply(lambda x: define_madori(x))\n"
          ]
        }
      ]
    },
    {
      "cell_type": "code",
      "source": [
        "testdf = testdf.drop('種類', axis = 1)"
      ],
      "metadata": {
        "id": "T5l-A70233Qc"
      },
      "execution_count": null,
      "outputs": []
    },
    {
      "cell_type": "code",
      "source": [
        "testdf = testdf.drop(['取引時点', '都市計画'], axis = 1)"
      ],
      "metadata": {
        "id": "qDIPhPX5399D"
      },
      "execution_count": null,
      "outputs": []
    },
    {
      "cell_type": "code",
      "source": [
        "testdf['建物の構造']=testdf['建物の構造'].apply(lambda x : structure(x))\n",
        "test_dummies = pd.get_dummies(testdf['建物の構造'])\n",
        "testdf = pd.concat([testdf, test_dummies], axis = 1)\n",
        "testdf = testdf.drop('建物の構造', axis=1)"
      ],
      "metadata": {
        "id": "dS3oafH-4Czg"
      },
      "execution_count": null,
      "outputs": []
    },
    {
      "cell_type": "code",
      "source": [
        "testdf['建築年'] = testdf['建築年'].fillna(df1_4['建築年'].mean())\n",
        "testdf['最寄駅：距離（分）']= testdf['最寄駅：距離（分）'].fillna(df1_4['最寄駅：距離（分）'].mean())\n",
        "testdf[KEMPEI] = testdf[KEMPEI].fillna(df1_4[KEMPEI].mean())"
      ],
      "metadata": {
        "id": "dZ-FvnzY4q78"
      },
      "execution_count": null,
      "outputs": []
    },
    {
      "cell_type": "code",
      "source": [
        "testdf_dummies = pd.get_dummies(testdf['市区町村名'])\n",
        "testdf = testdf.drop(['市区町村コード', '都道府県名', '地区名', STATION, '市区町村名'], axis =1)"
      ],
      "metadata": {
        "id": "lIAOEBv_5fQ5"
      },
      "execution_count": null,
      "outputs": []
    },
    {
      "cell_type": "code",
      "source": [
        "testdf = pd.concat([testdf, testdf_dummies], axis=1)"
      ],
      "metadata": {
        "id": "5xajEBRo5pU6"
      },
      "execution_count": null,
      "outputs": []
    },
    {
      "cell_type": "code",
      "source": [
        "testdf[FLOOR] = testdf[FLOOR].fillna(df1_4[FLOOR].mean())"
      ],
      "metadata": {
        "id": "mqOtxWrS6pAa"
      },
      "execution_count": null,
      "outputs": []
    },
    {
      "cell_type": "markdown",
      "source": [
        "# 回帰"
      ],
      "metadata": {
        "id": "8d62-vcKsVuf"
      }
    },
    {
      "cell_type": "code",
      "source": [
        "df2 = df1_6.copy()"
      ],
      "metadata": {
        "id": "y2GyEy12s_hk"
      },
      "execution_count": null,
      "outputs": []
    },
    {
      "cell_type": "code",
      "source": [
        "test2 = testdf.copy()"
      ],
      "metadata": {
        "id": "UlkUxdex5yow"
      },
      "execution_count": null,
      "outputs": []
    },
    {
      "cell_type": "code",
      "source": [
        "df2.head()"
      ],
      "metadata": {
        "colab": {
          "base_uri": "https://localhost:8080/",
          "height": 416
        },
        "id": "j4CbO2xI6DQj",
        "outputId": "86e02c54-d606-4467-b00f-109622353675"
      },
      "execution_count": null,
      "outputs": [
        {
          "output_type": "execute_result",
          "data": {
            "text/plain": [
              "        ID  最寄駅：距離（分）  間取り  面積（㎡）          建築年  建ぺい率（％）  容積率（％）  改装  \\\n",
              "0  3015552       45.0    1     25  1995.433082     60.0   200.0   0   \n",
              "1  3023488        1.0    4     90  1999.000000     80.0   200.0   0   \n",
              "2  3001812       15.0    4     90  2015.000000     80.0   600.0   0   \n",
              "3  3009546       11.0    3     75  1995.433082     80.0   400.0   0   \n",
              "4  3018911       10.0    3     65  1985.000000     80.0   400.0   0   \n",
              "\n",
              "   取引価格（総額）_log  その他  住居  商業  工業  高層  RC  SRC  other  あきる野市  あま市  いわき市  うるま市  \\\n",
              "0      6.301030    0   0   0   0   1   1    0      0      0    0     0     0   \n",
              "1      7.380211    0   0   1   0   0   0    1      0      0    0     0     0   \n",
              "2      7.568202    0   0   1   0   0   1    0      0      0    0     0     0   \n",
              "3      7.278754    0   0   1   0   0   1    0      0      0    0     0     0   \n",
              "4      6.982271    0   0   1   0   0   0    1      0      0    0     0     0   \n",
              "\n",
              "   さいたま市中央区  さいたま市北区  さいたま市南区  さいたま市大宮区  ...  静岡市清水区  静岡市葵区  静岡市駿河区  額田郡幸田町  \\\n",
              "0         0        0        0         0  ...       0      0       0       0   \n",
              "1         0        0        0         0  ...       0      0       0       0   \n",
              "2         0        0        0         0  ...       0      0       0       0   \n",
              "3         0        0        0         0  ...       0      0       0       0   \n",
              "4         0        0        0         0  ...       0      0       0       0   \n",
              "\n",
              "   飯塚市  飯田市  飯能市  香芝市  高山市  高岡市  高崎市  高座郡寒川町  高松市  高槻市  高浜市  高知市  高石市  鳥取市  \\\n",
              "0    0    0    0    0    0    0    0       0    0    0    0    0    0    0   \n",
              "1    0    0    0    0    0    0    0       0    0    0    0    0    0    0   \n",
              "2    0    0    0    0    0    0    0       0    0    0    0    0    0    0   \n",
              "3    0    0    0    0    0    0    0       0    0    0    0    0    0    0   \n",
              "4    0    0    0    0    0    0    0       0    0    0    0    0    0    0   \n",
              "\n",
              "   鴻巣市  鶴ケ島市  鶴岡市  鹿児島市  鹿屋市  鹿沼市  龍ケ崎市  \n",
              "0    0     0    0     0    0    0     0  \n",
              "1    0     0    0     0    0    0     0  \n",
              "2    0     0    0     0    0    0     0  \n",
              "3    0     0    0     0    0    0     0  \n",
              "4    0     0    0     0    0    0     0  \n",
              "\n",
              "[5 rows x 636 columns]"
            ],
            "text/html": [
              "\n",
              "  <div id=\"df-fb525a21-e6c4-4e5a-9b08-2fc6efdb3f20\">\n",
              "    <div class=\"colab-df-container\">\n",
              "      <div>\n",
              "<style scoped>\n",
              "    .dataframe tbody tr th:only-of-type {\n",
              "        vertical-align: middle;\n",
              "    }\n",
              "\n",
              "    .dataframe tbody tr th {\n",
              "        vertical-align: top;\n",
              "    }\n",
              "\n",
              "    .dataframe thead th {\n",
              "        text-align: right;\n",
              "    }\n",
              "</style>\n",
              "<table border=\"1\" class=\"dataframe\">\n",
              "  <thead>\n",
              "    <tr style=\"text-align: right;\">\n",
              "      <th></th>\n",
              "      <th>ID</th>\n",
              "      <th>最寄駅：距離（分）</th>\n",
              "      <th>間取り</th>\n",
              "      <th>面積（㎡）</th>\n",
              "      <th>建築年</th>\n",
              "      <th>建ぺい率（％）</th>\n",
              "      <th>容積率（％）</th>\n",
              "      <th>改装</th>\n",
              "      <th>取引価格（総額）_log</th>\n",
              "      <th>その他</th>\n",
              "      <th>住居</th>\n",
              "      <th>商業</th>\n",
              "      <th>工業</th>\n",
              "      <th>高層</th>\n",
              "      <th>RC</th>\n",
              "      <th>SRC</th>\n",
              "      <th>other</th>\n",
              "      <th>あきる野市</th>\n",
              "      <th>あま市</th>\n",
              "      <th>いわき市</th>\n",
              "      <th>うるま市</th>\n",
              "      <th>さいたま市中央区</th>\n",
              "      <th>さいたま市北区</th>\n",
              "      <th>さいたま市南区</th>\n",
              "      <th>さいたま市大宮区</th>\n",
              "      <th>...</th>\n",
              "      <th>静岡市清水区</th>\n",
              "      <th>静岡市葵区</th>\n",
              "      <th>静岡市駿河区</th>\n",
              "      <th>額田郡幸田町</th>\n",
              "      <th>飯塚市</th>\n",
              "      <th>飯田市</th>\n",
              "      <th>飯能市</th>\n",
              "      <th>香芝市</th>\n",
              "      <th>高山市</th>\n",
              "      <th>高岡市</th>\n",
              "      <th>高崎市</th>\n",
              "      <th>高座郡寒川町</th>\n",
              "      <th>高松市</th>\n",
              "      <th>高槻市</th>\n",
              "      <th>高浜市</th>\n",
              "      <th>高知市</th>\n",
              "      <th>高石市</th>\n",
              "      <th>鳥取市</th>\n",
              "      <th>鴻巣市</th>\n",
              "      <th>鶴ケ島市</th>\n",
              "      <th>鶴岡市</th>\n",
              "      <th>鹿児島市</th>\n",
              "      <th>鹿屋市</th>\n",
              "      <th>鹿沼市</th>\n",
              "      <th>龍ケ崎市</th>\n",
              "    </tr>\n",
              "  </thead>\n",
              "  <tbody>\n",
              "    <tr>\n",
              "      <th>0</th>\n",
              "      <td>3015552</td>\n",
              "      <td>45.0</td>\n",
              "      <td>1</td>\n",
              "      <td>25</td>\n",
              "      <td>1995.433082</td>\n",
              "      <td>60.0</td>\n",
              "      <td>200.0</td>\n",
              "      <td>0</td>\n",
              "      <td>6.301030</td>\n",
              "      <td>0</td>\n",
              "      <td>0</td>\n",
              "      <td>0</td>\n",
              "      <td>0</td>\n",
              "      <td>1</td>\n",
              "      <td>1</td>\n",
              "      <td>0</td>\n",
              "      <td>0</td>\n",
              "      <td>0</td>\n",
              "      <td>0</td>\n",
              "      <td>0</td>\n",
              "      <td>0</td>\n",
              "      <td>0</td>\n",
              "      <td>0</td>\n",
              "      <td>0</td>\n",
              "      <td>0</td>\n",
              "      <td>...</td>\n",
              "      <td>0</td>\n",
              "      <td>0</td>\n",
              "      <td>0</td>\n",
              "      <td>0</td>\n",
              "      <td>0</td>\n",
              "      <td>0</td>\n",
              "      <td>0</td>\n",
              "      <td>0</td>\n",
              "      <td>0</td>\n",
              "      <td>0</td>\n",
              "      <td>0</td>\n",
              "      <td>0</td>\n",
              "      <td>0</td>\n",
              "      <td>0</td>\n",
              "      <td>0</td>\n",
              "      <td>0</td>\n",
              "      <td>0</td>\n",
              "      <td>0</td>\n",
              "      <td>0</td>\n",
              "      <td>0</td>\n",
              "      <td>0</td>\n",
              "      <td>0</td>\n",
              "      <td>0</td>\n",
              "      <td>0</td>\n",
              "      <td>0</td>\n",
              "    </tr>\n",
              "    <tr>\n",
              "      <th>1</th>\n",
              "      <td>3023488</td>\n",
              "      <td>1.0</td>\n",
              "      <td>4</td>\n",
              "      <td>90</td>\n",
              "      <td>1999.000000</td>\n",
              "      <td>80.0</td>\n",
              "      <td>200.0</td>\n",
              "      <td>0</td>\n",
              "      <td>7.380211</td>\n",
              "      <td>0</td>\n",
              "      <td>0</td>\n",
              "      <td>1</td>\n",
              "      <td>0</td>\n",
              "      <td>0</td>\n",
              "      <td>0</td>\n",
              "      <td>1</td>\n",
              "      <td>0</td>\n",
              "      <td>0</td>\n",
              "      <td>0</td>\n",
              "      <td>0</td>\n",
              "      <td>0</td>\n",
              "      <td>0</td>\n",
              "      <td>0</td>\n",
              "      <td>0</td>\n",
              "      <td>0</td>\n",
              "      <td>...</td>\n",
              "      <td>0</td>\n",
              "      <td>0</td>\n",
              "      <td>0</td>\n",
              "      <td>0</td>\n",
              "      <td>0</td>\n",
              "      <td>0</td>\n",
              "      <td>0</td>\n",
              "      <td>0</td>\n",
              "      <td>0</td>\n",
              "      <td>0</td>\n",
              "      <td>0</td>\n",
              "      <td>0</td>\n",
              "      <td>0</td>\n",
              "      <td>0</td>\n",
              "      <td>0</td>\n",
              "      <td>0</td>\n",
              "      <td>0</td>\n",
              "      <td>0</td>\n",
              "      <td>0</td>\n",
              "      <td>0</td>\n",
              "      <td>0</td>\n",
              "      <td>0</td>\n",
              "      <td>0</td>\n",
              "      <td>0</td>\n",
              "      <td>0</td>\n",
              "    </tr>\n",
              "    <tr>\n",
              "      <th>2</th>\n",
              "      <td>3001812</td>\n",
              "      <td>15.0</td>\n",
              "      <td>4</td>\n",
              "      <td>90</td>\n",
              "      <td>2015.000000</td>\n",
              "      <td>80.0</td>\n",
              "      <td>600.0</td>\n",
              "      <td>0</td>\n",
              "      <td>7.568202</td>\n",
              "      <td>0</td>\n",
              "      <td>0</td>\n",
              "      <td>1</td>\n",
              "      <td>0</td>\n",
              "      <td>0</td>\n",
              "      <td>1</td>\n",
              "      <td>0</td>\n",
              "      <td>0</td>\n",
              "      <td>0</td>\n",
              "      <td>0</td>\n",
              "      <td>0</td>\n",
              "      <td>0</td>\n",
              "      <td>0</td>\n",
              "      <td>0</td>\n",
              "      <td>0</td>\n",
              "      <td>0</td>\n",
              "      <td>...</td>\n",
              "      <td>0</td>\n",
              "      <td>0</td>\n",
              "      <td>0</td>\n",
              "      <td>0</td>\n",
              "      <td>0</td>\n",
              "      <td>0</td>\n",
              "      <td>0</td>\n",
              "      <td>0</td>\n",
              "      <td>0</td>\n",
              "      <td>0</td>\n",
              "      <td>0</td>\n",
              "      <td>0</td>\n",
              "      <td>0</td>\n",
              "      <td>0</td>\n",
              "      <td>0</td>\n",
              "      <td>0</td>\n",
              "      <td>0</td>\n",
              "      <td>0</td>\n",
              "      <td>0</td>\n",
              "      <td>0</td>\n",
              "      <td>0</td>\n",
              "      <td>0</td>\n",
              "      <td>0</td>\n",
              "      <td>0</td>\n",
              "      <td>0</td>\n",
              "    </tr>\n",
              "    <tr>\n",
              "      <th>3</th>\n",
              "      <td>3009546</td>\n",
              "      <td>11.0</td>\n",
              "      <td>3</td>\n",
              "      <td>75</td>\n",
              "      <td>1995.433082</td>\n",
              "      <td>80.0</td>\n",
              "      <td>400.0</td>\n",
              "      <td>0</td>\n",
              "      <td>7.278754</td>\n",
              "      <td>0</td>\n",
              "      <td>0</td>\n",
              "      <td>1</td>\n",
              "      <td>0</td>\n",
              "      <td>0</td>\n",
              "      <td>1</td>\n",
              "      <td>0</td>\n",
              "      <td>0</td>\n",
              "      <td>0</td>\n",
              "      <td>0</td>\n",
              "      <td>0</td>\n",
              "      <td>0</td>\n",
              "      <td>0</td>\n",
              "      <td>0</td>\n",
              "      <td>0</td>\n",
              "      <td>0</td>\n",
              "      <td>...</td>\n",
              "      <td>0</td>\n",
              "      <td>0</td>\n",
              "      <td>0</td>\n",
              "      <td>0</td>\n",
              "      <td>0</td>\n",
              "      <td>0</td>\n",
              "      <td>0</td>\n",
              "      <td>0</td>\n",
              "      <td>0</td>\n",
              "      <td>0</td>\n",
              "      <td>0</td>\n",
              "      <td>0</td>\n",
              "      <td>0</td>\n",
              "      <td>0</td>\n",
              "      <td>0</td>\n",
              "      <td>0</td>\n",
              "      <td>0</td>\n",
              "      <td>0</td>\n",
              "      <td>0</td>\n",
              "      <td>0</td>\n",
              "      <td>0</td>\n",
              "      <td>0</td>\n",
              "      <td>0</td>\n",
              "      <td>0</td>\n",
              "      <td>0</td>\n",
              "    </tr>\n",
              "    <tr>\n",
              "      <th>4</th>\n",
              "      <td>3018911</td>\n",
              "      <td>10.0</td>\n",
              "      <td>3</td>\n",
              "      <td>65</td>\n",
              "      <td>1985.000000</td>\n",
              "      <td>80.0</td>\n",
              "      <td>400.0</td>\n",
              "      <td>0</td>\n",
              "      <td>6.982271</td>\n",
              "      <td>0</td>\n",
              "      <td>0</td>\n",
              "      <td>1</td>\n",
              "      <td>0</td>\n",
              "      <td>0</td>\n",
              "      <td>0</td>\n",
              "      <td>1</td>\n",
              "      <td>0</td>\n",
              "      <td>0</td>\n",
              "      <td>0</td>\n",
              "      <td>0</td>\n",
              "      <td>0</td>\n",
              "      <td>0</td>\n",
              "      <td>0</td>\n",
              "      <td>0</td>\n",
              "      <td>0</td>\n",
              "      <td>...</td>\n",
              "      <td>0</td>\n",
              "      <td>0</td>\n",
              "      <td>0</td>\n",
              "      <td>0</td>\n",
              "      <td>0</td>\n",
              "      <td>0</td>\n",
              "      <td>0</td>\n",
              "      <td>0</td>\n",
              "      <td>0</td>\n",
              "      <td>0</td>\n",
              "      <td>0</td>\n",
              "      <td>0</td>\n",
              "      <td>0</td>\n",
              "      <td>0</td>\n",
              "      <td>0</td>\n",
              "      <td>0</td>\n",
              "      <td>0</td>\n",
              "      <td>0</td>\n",
              "      <td>0</td>\n",
              "      <td>0</td>\n",
              "      <td>0</td>\n",
              "      <td>0</td>\n",
              "      <td>0</td>\n",
              "      <td>0</td>\n",
              "      <td>0</td>\n",
              "    </tr>\n",
              "  </tbody>\n",
              "</table>\n",
              "<p>5 rows × 636 columns</p>\n",
              "</div>\n",
              "      <button class=\"colab-df-convert\" onclick=\"convertToInteractive('df-fb525a21-e6c4-4e5a-9b08-2fc6efdb3f20')\"\n",
              "              title=\"Convert this dataframe to an interactive table.\"\n",
              "              style=\"display:none;\">\n",
              "        \n",
              "  <svg xmlns=\"http://www.w3.org/2000/svg\" height=\"24px\"viewBox=\"0 0 24 24\"\n",
              "       width=\"24px\">\n",
              "    <path d=\"M0 0h24v24H0V0z\" fill=\"none\"/>\n",
              "    <path d=\"M18.56 5.44l.94 2.06.94-2.06 2.06-.94-2.06-.94-.94-2.06-.94 2.06-2.06.94zm-11 1L8.5 8.5l.94-2.06 2.06-.94-2.06-.94L8.5 2.5l-.94 2.06-2.06.94zm10 10l.94 2.06.94-2.06 2.06-.94-2.06-.94-.94-2.06-.94 2.06-2.06.94z\"/><path d=\"M17.41 7.96l-1.37-1.37c-.4-.4-.92-.59-1.43-.59-.52 0-1.04.2-1.43.59L10.3 9.45l-7.72 7.72c-.78.78-.78 2.05 0 2.83L4 21.41c.39.39.9.59 1.41.59.51 0 1.02-.2 1.41-.59l7.78-7.78 2.81-2.81c.8-.78.8-2.07 0-2.86zM5.41 20L4 18.59l7.72-7.72 1.47 1.35L5.41 20z\"/>\n",
              "  </svg>\n",
              "      </button>\n",
              "      \n",
              "  <style>\n",
              "    .colab-df-container {\n",
              "      display:flex;\n",
              "      flex-wrap:wrap;\n",
              "      gap: 12px;\n",
              "    }\n",
              "\n",
              "    .colab-df-convert {\n",
              "      background-color: #E8F0FE;\n",
              "      border: none;\n",
              "      border-radius: 50%;\n",
              "      cursor: pointer;\n",
              "      display: none;\n",
              "      fill: #1967D2;\n",
              "      height: 32px;\n",
              "      padding: 0 0 0 0;\n",
              "      width: 32px;\n",
              "    }\n",
              "\n",
              "    .colab-df-convert:hover {\n",
              "      background-color: #E2EBFA;\n",
              "      box-shadow: 0px 1px 2px rgba(60, 64, 67, 0.3), 0px 1px 3px 1px rgba(60, 64, 67, 0.15);\n",
              "      fill: #174EA6;\n",
              "    }\n",
              "\n",
              "    [theme=dark] .colab-df-convert {\n",
              "      background-color: #3B4455;\n",
              "      fill: #D2E3FC;\n",
              "    }\n",
              "\n",
              "    [theme=dark] .colab-df-convert:hover {\n",
              "      background-color: #434B5C;\n",
              "      box-shadow: 0px 1px 3px 1px rgba(0, 0, 0, 0.15);\n",
              "      filter: drop-shadow(0px 1px 2px rgba(0, 0, 0, 0.3));\n",
              "      fill: #FFFFFF;\n",
              "    }\n",
              "  </style>\n",
              "\n",
              "      <script>\n",
              "        const buttonEl =\n",
              "          document.querySelector('#df-fb525a21-e6c4-4e5a-9b08-2fc6efdb3f20 button.colab-df-convert');\n",
              "        buttonEl.style.display =\n",
              "          google.colab.kernel.accessAllowed ? 'block' : 'none';\n",
              "\n",
              "        async function convertToInteractive(key) {\n",
              "          const element = document.querySelector('#df-fb525a21-e6c4-4e5a-9b08-2fc6efdb3f20');\n",
              "          const dataTable =\n",
              "            await google.colab.kernel.invokeFunction('convertToInteractive',\n",
              "                                                     [key], {});\n",
              "          if (!dataTable) return;\n",
              "\n",
              "          const docLinkHtml = 'Like what you see? Visit the ' +\n",
              "            '<a target=\"_blank\" href=https://colab.research.google.com/notebooks/data_table.ipynb>data table notebook</a>'\n",
              "            + ' to learn more about interactive tables.';\n",
              "          element.innerHTML = '';\n",
              "          dataTable['output_type'] = 'display_data';\n",
              "          await google.colab.output.renderOutput(dataTable, element);\n",
              "          const docLink = document.createElement('div');\n",
              "          docLink.innerHTML = docLinkHtml;\n",
              "          element.appendChild(docLink);\n",
              "        }\n",
              "      </script>\n",
              "    </div>\n",
              "  </div>\n",
              "  "
            ]
          },
          "metadata": {},
          "execution_count": 62
        }
      ]
    },
    {
      "cell_type": "code",
      "source": [
        "testdf.head()"
      ],
      "metadata": {
        "colab": {
          "base_uri": "https://localhost:8080/",
          "height": 416
        },
        "id": "nUnInViW7KTn",
        "outputId": "17a15c4b-6510-4298-99b2-491ef18bcd2a"
      },
      "execution_count": null,
      "outputs": [
        {
          "output_type": "execute_result",
          "data": {
            "text/plain": [
              "        ID  最寄駅：距離（分）  間取り  面積（㎡）     建築年  建ぺい率（％）  容積率（％）  改装  RC  SRC  \\\n",
              "0  1000118        2.0    2     50  1989.0     80.0   400.0   0   0    1   \n",
              "1  1000121        2.0    0     15  1989.0     80.0   400.0   0   0    1   \n",
              "2  1000122        2.0    2     50  1989.0     80.0   400.0   0   0    1   \n",
              "3  1000124        2.0    1     45  1991.0     80.0   400.0   1   0    1   \n",
              "4  1000125        2.0    3     70  1986.0     80.0   400.0   1   1    0   \n",
              "\n",
              "   other  あま市  いわき市  さいたま市中央区  さいたま市北区  さいたま市南区  さいたま市大宮区  さいたま市岩槻区  さいたま市桜区  \\\n",
              "0      0    0     0         0        0        0         0         0        0   \n",
              "1      0    0     0         0        0        0         0         0        0   \n",
              "2      0    0     0         0        0        0         0         0        0   \n",
              "3      0    0     0         0        0        0         0         0        0   \n",
              "4      0    0     0         0        0        0         0         0        0   \n",
              "\n",
              "   さいたま市浦和区  さいたま市緑区  さいたま市西区  さいたま市見沼区  つくばみらい市  つくば市  ...  霧島市  青梅市  青森市  \\\n",
              "0         0        0        0         0        0     0  ...    0    0    0   \n",
              "1         0        0        0         0        0     0  ...    0    0    0   \n",
              "2         0        0        0         0        0     0  ...    0    0    0   \n",
              "3         0        0        0         0        0     0  ...    0    0    0   \n",
              "4         0        0        0         0        0     0  ...    0    0    0   \n",
              "\n",
              "   静岡市清水区  静岡市葵区  静岡市駿河区  額田郡幸田町  飯塚市  飯田市  飯能市  香芝市  高岡市  高崎市  高座郡寒川町  高松市  \\\n",
              "0       0      0       0       0    0    0    0    0    0    0       0    0   \n",
              "1       0      0       0       0    0    0    0    0    0    0       0    0   \n",
              "2       0      0       0       0    0    0    0    0    0    0       0    0   \n",
              "3       0      0       0       0    0    0    0    0    0    0       0    0   \n",
              "4       0      0       0       0    0    0    0    0    0    0       0    0   \n",
              "\n",
              "   高槻市  高浜市  高知市  高石市  鳥取市  鴻巣市  鶴ケ島市  鹿児島市  鹿沼市  龍ケ崎市  \n",
              "0    0    0    0    0    0    0     0     0    0     0  \n",
              "1    0    0    0    0    0    0     0     0    0     0  \n",
              "2    0    0    0    0    0    0     0     0    0     0  \n",
              "3    0    0    0    0    0    0     0     0    0     0  \n",
              "4    0    0    0    0    0    0     0     0    0     0  \n",
              "\n",
              "[5 rows x 544 columns]"
            ],
            "text/html": [
              "\n",
              "  <div id=\"df-77b0d192-a7d9-4835-8beb-4d269852eb5a\">\n",
              "    <div class=\"colab-df-container\">\n",
              "      <div>\n",
              "<style scoped>\n",
              "    .dataframe tbody tr th:only-of-type {\n",
              "        vertical-align: middle;\n",
              "    }\n",
              "\n",
              "    .dataframe tbody tr th {\n",
              "        vertical-align: top;\n",
              "    }\n",
              "\n",
              "    .dataframe thead th {\n",
              "        text-align: right;\n",
              "    }\n",
              "</style>\n",
              "<table border=\"1\" class=\"dataframe\">\n",
              "  <thead>\n",
              "    <tr style=\"text-align: right;\">\n",
              "      <th></th>\n",
              "      <th>ID</th>\n",
              "      <th>最寄駅：距離（分）</th>\n",
              "      <th>間取り</th>\n",
              "      <th>面積（㎡）</th>\n",
              "      <th>建築年</th>\n",
              "      <th>建ぺい率（％）</th>\n",
              "      <th>容積率（％）</th>\n",
              "      <th>改装</th>\n",
              "      <th>RC</th>\n",
              "      <th>SRC</th>\n",
              "      <th>other</th>\n",
              "      <th>あま市</th>\n",
              "      <th>いわき市</th>\n",
              "      <th>さいたま市中央区</th>\n",
              "      <th>さいたま市北区</th>\n",
              "      <th>さいたま市南区</th>\n",
              "      <th>さいたま市大宮区</th>\n",
              "      <th>さいたま市岩槻区</th>\n",
              "      <th>さいたま市桜区</th>\n",
              "      <th>さいたま市浦和区</th>\n",
              "      <th>さいたま市緑区</th>\n",
              "      <th>さいたま市西区</th>\n",
              "      <th>さいたま市見沼区</th>\n",
              "      <th>つくばみらい市</th>\n",
              "      <th>つくば市</th>\n",
              "      <th>...</th>\n",
              "      <th>霧島市</th>\n",
              "      <th>青梅市</th>\n",
              "      <th>青森市</th>\n",
              "      <th>静岡市清水区</th>\n",
              "      <th>静岡市葵区</th>\n",
              "      <th>静岡市駿河区</th>\n",
              "      <th>額田郡幸田町</th>\n",
              "      <th>飯塚市</th>\n",
              "      <th>飯田市</th>\n",
              "      <th>飯能市</th>\n",
              "      <th>香芝市</th>\n",
              "      <th>高岡市</th>\n",
              "      <th>高崎市</th>\n",
              "      <th>高座郡寒川町</th>\n",
              "      <th>高松市</th>\n",
              "      <th>高槻市</th>\n",
              "      <th>高浜市</th>\n",
              "      <th>高知市</th>\n",
              "      <th>高石市</th>\n",
              "      <th>鳥取市</th>\n",
              "      <th>鴻巣市</th>\n",
              "      <th>鶴ケ島市</th>\n",
              "      <th>鹿児島市</th>\n",
              "      <th>鹿沼市</th>\n",
              "      <th>龍ケ崎市</th>\n",
              "    </tr>\n",
              "  </thead>\n",
              "  <tbody>\n",
              "    <tr>\n",
              "      <th>0</th>\n",
              "      <td>1000118</td>\n",
              "      <td>2.0</td>\n",
              "      <td>2</td>\n",
              "      <td>50</td>\n",
              "      <td>1989.0</td>\n",
              "      <td>80.0</td>\n",
              "      <td>400.0</td>\n",
              "      <td>0</td>\n",
              "      <td>0</td>\n",
              "      <td>1</td>\n",
              "      <td>0</td>\n",
              "      <td>0</td>\n",
              "      <td>0</td>\n",
              "      <td>0</td>\n",
              "      <td>0</td>\n",
              "      <td>0</td>\n",
              "      <td>0</td>\n",
              "      <td>0</td>\n",
              "      <td>0</td>\n",
              "      <td>0</td>\n",
              "      <td>0</td>\n",
              "      <td>0</td>\n",
              "      <td>0</td>\n",
              "      <td>0</td>\n",
              "      <td>0</td>\n",
              "      <td>...</td>\n",
              "      <td>0</td>\n",
              "      <td>0</td>\n",
              "      <td>0</td>\n",
              "      <td>0</td>\n",
              "      <td>0</td>\n",
              "      <td>0</td>\n",
              "      <td>0</td>\n",
              "      <td>0</td>\n",
              "      <td>0</td>\n",
              "      <td>0</td>\n",
              "      <td>0</td>\n",
              "      <td>0</td>\n",
              "      <td>0</td>\n",
              "      <td>0</td>\n",
              "      <td>0</td>\n",
              "      <td>0</td>\n",
              "      <td>0</td>\n",
              "      <td>0</td>\n",
              "      <td>0</td>\n",
              "      <td>0</td>\n",
              "      <td>0</td>\n",
              "      <td>0</td>\n",
              "      <td>0</td>\n",
              "      <td>0</td>\n",
              "      <td>0</td>\n",
              "    </tr>\n",
              "    <tr>\n",
              "      <th>1</th>\n",
              "      <td>1000121</td>\n",
              "      <td>2.0</td>\n",
              "      <td>0</td>\n",
              "      <td>15</td>\n",
              "      <td>1989.0</td>\n",
              "      <td>80.0</td>\n",
              "      <td>400.0</td>\n",
              "      <td>0</td>\n",
              "      <td>0</td>\n",
              "      <td>1</td>\n",
              "      <td>0</td>\n",
              "      <td>0</td>\n",
              "      <td>0</td>\n",
              "      <td>0</td>\n",
              "      <td>0</td>\n",
              "      <td>0</td>\n",
              "      <td>0</td>\n",
              "      <td>0</td>\n",
              "      <td>0</td>\n",
              "      <td>0</td>\n",
              "      <td>0</td>\n",
              "      <td>0</td>\n",
              "      <td>0</td>\n",
              "      <td>0</td>\n",
              "      <td>0</td>\n",
              "      <td>...</td>\n",
              "      <td>0</td>\n",
              "      <td>0</td>\n",
              "      <td>0</td>\n",
              "      <td>0</td>\n",
              "      <td>0</td>\n",
              "      <td>0</td>\n",
              "      <td>0</td>\n",
              "      <td>0</td>\n",
              "      <td>0</td>\n",
              "      <td>0</td>\n",
              "      <td>0</td>\n",
              "      <td>0</td>\n",
              "      <td>0</td>\n",
              "      <td>0</td>\n",
              "      <td>0</td>\n",
              "      <td>0</td>\n",
              "      <td>0</td>\n",
              "      <td>0</td>\n",
              "      <td>0</td>\n",
              "      <td>0</td>\n",
              "      <td>0</td>\n",
              "      <td>0</td>\n",
              "      <td>0</td>\n",
              "      <td>0</td>\n",
              "      <td>0</td>\n",
              "    </tr>\n",
              "    <tr>\n",
              "      <th>2</th>\n",
              "      <td>1000122</td>\n",
              "      <td>2.0</td>\n",
              "      <td>2</td>\n",
              "      <td>50</td>\n",
              "      <td>1989.0</td>\n",
              "      <td>80.0</td>\n",
              "      <td>400.0</td>\n",
              "      <td>0</td>\n",
              "      <td>0</td>\n",
              "      <td>1</td>\n",
              "      <td>0</td>\n",
              "      <td>0</td>\n",
              "      <td>0</td>\n",
              "      <td>0</td>\n",
              "      <td>0</td>\n",
              "      <td>0</td>\n",
              "      <td>0</td>\n",
              "      <td>0</td>\n",
              "      <td>0</td>\n",
              "      <td>0</td>\n",
              "      <td>0</td>\n",
              "      <td>0</td>\n",
              "      <td>0</td>\n",
              "      <td>0</td>\n",
              "      <td>0</td>\n",
              "      <td>...</td>\n",
              "      <td>0</td>\n",
              "      <td>0</td>\n",
              "      <td>0</td>\n",
              "      <td>0</td>\n",
              "      <td>0</td>\n",
              "      <td>0</td>\n",
              "      <td>0</td>\n",
              "      <td>0</td>\n",
              "      <td>0</td>\n",
              "      <td>0</td>\n",
              "      <td>0</td>\n",
              "      <td>0</td>\n",
              "      <td>0</td>\n",
              "      <td>0</td>\n",
              "      <td>0</td>\n",
              "      <td>0</td>\n",
              "      <td>0</td>\n",
              "      <td>0</td>\n",
              "      <td>0</td>\n",
              "      <td>0</td>\n",
              "      <td>0</td>\n",
              "      <td>0</td>\n",
              "      <td>0</td>\n",
              "      <td>0</td>\n",
              "      <td>0</td>\n",
              "    </tr>\n",
              "    <tr>\n",
              "      <th>3</th>\n",
              "      <td>1000124</td>\n",
              "      <td>2.0</td>\n",
              "      <td>1</td>\n",
              "      <td>45</td>\n",
              "      <td>1991.0</td>\n",
              "      <td>80.0</td>\n",
              "      <td>400.0</td>\n",
              "      <td>1</td>\n",
              "      <td>0</td>\n",
              "      <td>1</td>\n",
              "      <td>0</td>\n",
              "      <td>0</td>\n",
              "      <td>0</td>\n",
              "      <td>0</td>\n",
              "      <td>0</td>\n",
              "      <td>0</td>\n",
              "      <td>0</td>\n",
              "      <td>0</td>\n",
              "      <td>0</td>\n",
              "      <td>0</td>\n",
              "      <td>0</td>\n",
              "      <td>0</td>\n",
              "      <td>0</td>\n",
              "      <td>0</td>\n",
              "      <td>0</td>\n",
              "      <td>...</td>\n",
              "      <td>0</td>\n",
              "      <td>0</td>\n",
              "      <td>0</td>\n",
              "      <td>0</td>\n",
              "      <td>0</td>\n",
              "      <td>0</td>\n",
              "      <td>0</td>\n",
              "      <td>0</td>\n",
              "      <td>0</td>\n",
              "      <td>0</td>\n",
              "      <td>0</td>\n",
              "      <td>0</td>\n",
              "      <td>0</td>\n",
              "      <td>0</td>\n",
              "      <td>0</td>\n",
              "      <td>0</td>\n",
              "      <td>0</td>\n",
              "      <td>0</td>\n",
              "      <td>0</td>\n",
              "      <td>0</td>\n",
              "      <td>0</td>\n",
              "      <td>0</td>\n",
              "      <td>0</td>\n",
              "      <td>0</td>\n",
              "      <td>0</td>\n",
              "    </tr>\n",
              "    <tr>\n",
              "      <th>4</th>\n",
              "      <td>1000125</td>\n",
              "      <td>2.0</td>\n",
              "      <td>3</td>\n",
              "      <td>70</td>\n",
              "      <td>1986.0</td>\n",
              "      <td>80.0</td>\n",
              "      <td>400.0</td>\n",
              "      <td>1</td>\n",
              "      <td>1</td>\n",
              "      <td>0</td>\n",
              "      <td>0</td>\n",
              "      <td>0</td>\n",
              "      <td>0</td>\n",
              "      <td>0</td>\n",
              "      <td>0</td>\n",
              "      <td>0</td>\n",
              "      <td>0</td>\n",
              "      <td>0</td>\n",
              "      <td>0</td>\n",
              "      <td>0</td>\n",
              "      <td>0</td>\n",
              "      <td>0</td>\n",
              "      <td>0</td>\n",
              "      <td>0</td>\n",
              "      <td>0</td>\n",
              "      <td>...</td>\n",
              "      <td>0</td>\n",
              "      <td>0</td>\n",
              "      <td>0</td>\n",
              "      <td>0</td>\n",
              "      <td>0</td>\n",
              "      <td>0</td>\n",
              "      <td>0</td>\n",
              "      <td>0</td>\n",
              "      <td>0</td>\n",
              "      <td>0</td>\n",
              "      <td>0</td>\n",
              "      <td>0</td>\n",
              "      <td>0</td>\n",
              "      <td>0</td>\n",
              "      <td>0</td>\n",
              "      <td>0</td>\n",
              "      <td>0</td>\n",
              "      <td>0</td>\n",
              "      <td>0</td>\n",
              "      <td>0</td>\n",
              "      <td>0</td>\n",
              "      <td>0</td>\n",
              "      <td>0</td>\n",
              "      <td>0</td>\n",
              "      <td>0</td>\n",
              "    </tr>\n",
              "  </tbody>\n",
              "</table>\n",
              "<p>5 rows × 544 columns</p>\n",
              "</div>\n",
              "      <button class=\"colab-df-convert\" onclick=\"convertToInteractive('df-77b0d192-a7d9-4835-8beb-4d269852eb5a')\"\n",
              "              title=\"Convert this dataframe to an interactive table.\"\n",
              "              style=\"display:none;\">\n",
              "        \n",
              "  <svg xmlns=\"http://www.w3.org/2000/svg\" height=\"24px\"viewBox=\"0 0 24 24\"\n",
              "       width=\"24px\">\n",
              "    <path d=\"M0 0h24v24H0V0z\" fill=\"none\"/>\n",
              "    <path d=\"M18.56 5.44l.94 2.06.94-2.06 2.06-.94-2.06-.94-.94-2.06-.94 2.06-2.06.94zm-11 1L8.5 8.5l.94-2.06 2.06-.94-2.06-.94L8.5 2.5l-.94 2.06-2.06.94zm10 10l.94 2.06.94-2.06 2.06-.94-2.06-.94-.94-2.06-.94 2.06-2.06.94z\"/><path d=\"M17.41 7.96l-1.37-1.37c-.4-.4-.92-.59-1.43-.59-.52 0-1.04.2-1.43.59L10.3 9.45l-7.72 7.72c-.78.78-.78 2.05 0 2.83L4 21.41c.39.39.9.59 1.41.59.51 0 1.02-.2 1.41-.59l7.78-7.78 2.81-2.81c.8-.78.8-2.07 0-2.86zM5.41 20L4 18.59l7.72-7.72 1.47 1.35L5.41 20z\"/>\n",
              "  </svg>\n",
              "      </button>\n",
              "      \n",
              "  <style>\n",
              "    .colab-df-container {\n",
              "      display:flex;\n",
              "      flex-wrap:wrap;\n",
              "      gap: 12px;\n",
              "    }\n",
              "\n",
              "    .colab-df-convert {\n",
              "      background-color: #E8F0FE;\n",
              "      border: none;\n",
              "      border-radius: 50%;\n",
              "      cursor: pointer;\n",
              "      display: none;\n",
              "      fill: #1967D2;\n",
              "      height: 32px;\n",
              "      padding: 0 0 0 0;\n",
              "      width: 32px;\n",
              "    }\n",
              "\n",
              "    .colab-df-convert:hover {\n",
              "      background-color: #E2EBFA;\n",
              "      box-shadow: 0px 1px 2px rgba(60, 64, 67, 0.3), 0px 1px 3px 1px rgba(60, 64, 67, 0.15);\n",
              "      fill: #174EA6;\n",
              "    }\n",
              "\n",
              "    [theme=dark] .colab-df-convert {\n",
              "      background-color: #3B4455;\n",
              "      fill: #D2E3FC;\n",
              "    }\n",
              "\n",
              "    [theme=dark] .colab-df-convert:hover {\n",
              "      background-color: #434B5C;\n",
              "      box-shadow: 0px 1px 3px 1px rgba(0, 0, 0, 0.15);\n",
              "      filter: drop-shadow(0px 1px 2px rgba(0, 0, 0, 0.3));\n",
              "      fill: #FFFFFF;\n",
              "    }\n",
              "  </style>\n",
              "\n",
              "      <script>\n",
              "        const buttonEl =\n",
              "          document.querySelector('#df-77b0d192-a7d9-4835-8beb-4d269852eb5a button.colab-df-convert');\n",
              "        buttonEl.style.display =\n",
              "          google.colab.kernel.accessAllowed ? 'block' : 'none';\n",
              "\n",
              "        async function convertToInteractive(key) {\n",
              "          const element = document.querySelector('#df-77b0d192-a7d9-4835-8beb-4d269852eb5a');\n",
              "          const dataTable =\n",
              "            await google.colab.kernel.invokeFunction('convertToInteractive',\n",
              "                                                     [key], {});\n",
              "          if (!dataTable) return;\n",
              "\n",
              "          const docLinkHtml = 'Like what you see? Visit the ' +\n",
              "            '<a target=\"_blank\" href=https://colab.research.google.com/notebooks/data_table.ipynb>data table notebook</a>'\n",
              "            + ' to learn more about interactive tables.';\n",
              "          element.innerHTML = '';\n",
              "          dataTable['output_type'] = 'display_data';\n",
              "          await google.colab.output.renderOutput(dataTable, element);\n",
              "          const docLink = document.createElement('div');\n",
              "          docLink.innerHTML = docLinkHtml;\n",
              "          element.appendChild(docLink);\n",
              "        }\n",
              "      </script>\n",
              "    </div>\n",
              "  </div>\n",
              "  "
            ]
          },
          "metadata": {},
          "execution_count": 64
        }
      ]
    },
    {
      "cell_type": "code",
      "source": [
        "X_train = df2.drop(['ID', TARGET], axis = 1)"
      ],
      "metadata": {
        "id": "IUoN_KCM557Z"
      },
      "execution_count": null,
      "outputs": []
    },
    {
      "cell_type": "code",
      "source": [
        "y_train = df2[TARGET]"
      ],
      "metadata": {
        "id": "zJcXYzAm74FC"
      },
      "execution_count": null,
      "outputs": []
    },
    {
      "cell_type": "code",
      "source": [
        "X_test = testdf.drop('ID', axis=1)"
      ],
      "metadata": {
        "id": "Ht76WsaG8Fz7"
      },
      "execution_count": null,
      "outputs": []
    },
    {
      "cell_type": "markdown",
      "source": [
        "## 2_1 リッジ回帰"
      ],
      "metadata": {
        "id": "nYezFn9Ss4Rf"
      }
    },
    {
      "cell_type": "code",
      "source": [
        "# データ分割（訓練データとテストデータ）のためのインポート\n",
        "from sklearn.model_selection import train_test_split\n",
        "\n",
        "# 重回帰のモデル構築のためのインポート\n",
        "from sklearn.linear_model import LinearRegression"
      ],
      "metadata": {
        "id": "Zs-GViCAtk6Q"
      },
      "execution_count": null,
      "outputs": []
    },
    {
      "cell_type": "code",
      "source": [
        "# リッジ回帰用のクラス\n",
        "from sklearn.linear_model import Ridge\n",
        "from sklearn.model_selection import train_test_split"
      ],
      "metadata": {
        "id": "NakdMN2r8U2r"
      },
      "execution_count": null,
      "outputs": []
    },
    {
      "cell_type": "code",
      "source": [
        "# モデルの構築と評価\n",
        "linear = LinearRegression()\n",
        "ridge = Ridge(random_state=0)"
      ],
      "metadata": {
        "id": "0WLZzynf8YZQ"
      },
      "execution_count": null,
      "outputs": []
    },
    {
      "cell_type": "code",
      "source": [
        "for model in [linear, ridge]:\n",
        "    model.fit(X_train, y_train)\n",
        "    print('{}(train):{:.6f}'.format(model.__class__.__name__ , model.score(X_train, y_train)))\n",
        "#    print('{}(test):{:.6f}'.format(model.__class__.__name__ , model.score(X_test, y_test)))"
      ],
      "metadata": {
        "colab": {
          "base_uri": "https://localhost:8080/"
        },
        "id": "go3F6KyZ8dzk",
        "outputId": "97b26106-7436-48e2-f31c-a6e731db6681"
      },
      "execution_count": null,
      "outputs": [
        {
          "output_type": "stream",
          "name": "stdout",
          "text": [
            "LinearRegression(train):0.728797\n",
            "Ridge(train):0.728775\n"
          ]
        }
      ]
    },
    {
      "cell_type": "code",
      "source": [
        "y_test = model.predict(X_test)"
      ],
      "metadata": {
        "colab": {
          "base_uri": "https://localhost:8080/",
          "height": 497
        },
        "id": "HA07OG5887AH",
        "outputId": "e4e8762f-a2f4-4997-fd9d-caf2ef657a2c"
      },
      "execution_count": null,
      "outputs": [
        {
          "output_type": "stream",
          "name": "stderr",
          "text": [
            "/usr/local/lib/python3.8/dist-packages/sklearn/base.py:493: FutureWarning: The feature names should match those that were passed during fit. Starting version 1.2, an error will be raised.\n",
            "Feature names seen at fit time, yet now missing:\n",
            "- あきる野市\n",
            "- うるま市\n",
            "- その他\n",
            "- 一関市\n",
            "- 三重郡川越町\n",
            "- ...\n",
            "\n",
            "  warnings.warn(message, FutureWarning)\n"
          ]
        },
        {
          "output_type": "error",
          "ename": "ValueError",
          "evalue": "ignored",
          "traceback": [
            "\u001b[0;31m---------------------------------------------------------------------------\u001b[0m",
            "\u001b[0;31mValueError\u001b[0m                                Traceback (most recent call last)",
            "\u001b[0;32m<ipython-input-76-c7f7e6dfc5b1>\u001b[0m in \u001b[0;36m<module>\u001b[0;34m\u001b[0m\n\u001b[0;32m----> 1\u001b[0;31m \u001b[0my_test\u001b[0m \u001b[0;34m=\u001b[0m \u001b[0mmodel\u001b[0m\u001b[0;34m.\u001b[0m\u001b[0mpredict\u001b[0m\u001b[0;34m(\u001b[0m\u001b[0mX_test\u001b[0m\u001b[0;34m)\u001b[0m\u001b[0;34m\u001b[0m\u001b[0;34m\u001b[0m\u001b[0m\n\u001b[0m",
            "\u001b[0;32m/usr/local/lib/python3.8/dist-packages/sklearn/linear_model/_base.py\u001b[0m in \u001b[0;36mpredict\u001b[0;34m(self, X)\u001b[0m\n\u001b[1;32m    360\u001b[0m             \u001b[0mReturns\u001b[0m \u001b[0mpredicted\u001b[0m \u001b[0mvalues\u001b[0m\u001b[0;34m.\u001b[0m\u001b[0;34m\u001b[0m\u001b[0;34m\u001b[0m\u001b[0m\n\u001b[1;32m    361\u001b[0m         \"\"\"\n\u001b[0;32m--> 362\u001b[0;31m         \u001b[0;32mreturn\u001b[0m \u001b[0mself\u001b[0m\u001b[0;34m.\u001b[0m\u001b[0m_decision_function\u001b[0m\u001b[0;34m(\u001b[0m\u001b[0mX\u001b[0m\u001b[0;34m)\u001b[0m\u001b[0;34m\u001b[0m\u001b[0;34m\u001b[0m\u001b[0m\n\u001b[0m\u001b[1;32m    363\u001b[0m \u001b[0;34m\u001b[0m\u001b[0m\n\u001b[1;32m    364\u001b[0m     \u001b[0m_preprocess_data\u001b[0m \u001b[0;34m=\u001b[0m \u001b[0mstaticmethod\u001b[0m\u001b[0;34m(\u001b[0m\u001b[0m_preprocess_data\u001b[0m\u001b[0;34m)\u001b[0m\u001b[0;34m\u001b[0m\u001b[0;34m\u001b[0m\u001b[0m\n",
            "\u001b[0;32m/usr/local/lib/python3.8/dist-packages/sklearn/linear_model/_base.py\u001b[0m in \u001b[0;36m_decision_function\u001b[0;34m(self, X)\u001b[0m\n\u001b[1;32m    343\u001b[0m         \u001b[0mcheck_is_fitted\u001b[0m\u001b[0;34m(\u001b[0m\u001b[0mself\u001b[0m\u001b[0;34m)\u001b[0m\u001b[0;34m\u001b[0m\u001b[0;34m\u001b[0m\u001b[0m\n\u001b[1;32m    344\u001b[0m \u001b[0;34m\u001b[0m\u001b[0m\n\u001b[0;32m--> 345\u001b[0;31m         \u001b[0mX\u001b[0m \u001b[0;34m=\u001b[0m \u001b[0mself\u001b[0m\u001b[0;34m.\u001b[0m\u001b[0m_validate_data\u001b[0m\u001b[0;34m(\u001b[0m\u001b[0mX\u001b[0m\u001b[0;34m,\u001b[0m \u001b[0maccept_sparse\u001b[0m\u001b[0;34m=\u001b[0m\u001b[0;34m[\u001b[0m\u001b[0;34m\"csr\"\u001b[0m\u001b[0;34m,\u001b[0m \u001b[0;34m\"csc\"\u001b[0m\u001b[0;34m,\u001b[0m \u001b[0;34m\"coo\"\u001b[0m\u001b[0;34m]\u001b[0m\u001b[0;34m,\u001b[0m \u001b[0mreset\u001b[0m\u001b[0;34m=\u001b[0m\u001b[0;32mFalse\u001b[0m\u001b[0;34m)\u001b[0m\u001b[0;34m\u001b[0m\u001b[0;34m\u001b[0m\u001b[0m\n\u001b[0m\u001b[1;32m    346\u001b[0m         \u001b[0;32mreturn\u001b[0m \u001b[0msafe_sparse_dot\u001b[0m\u001b[0;34m(\u001b[0m\u001b[0mX\u001b[0m\u001b[0;34m,\u001b[0m \u001b[0mself\u001b[0m\u001b[0;34m.\u001b[0m\u001b[0mcoef_\u001b[0m\u001b[0;34m.\u001b[0m\u001b[0mT\u001b[0m\u001b[0;34m,\u001b[0m \u001b[0mdense_output\u001b[0m\u001b[0;34m=\u001b[0m\u001b[0;32mTrue\u001b[0m\u001b[0;34m)\u001b[0m \u001b[0;34m+\u001b[0m \u001b[0mself\u001b[0m\u001b[0;34m.\u001b[0m\u001b[0mintercept_\u001b[0m\u001b[0;34m\u001b[0m\u001b[0;34m\u001b[0m\u001b[0m\n\u001b[1;32m    347\u001b[0m \u001b[0;34m\u001b[0m\u001b[0m\n",
            "\u001b[0;32m/usr/local/lib/python3.8/dist-packages/sklearn/base.py\u001b[0m in \u001b[0;36m_validate_data\u001b[0;34m(self, X, y, reset, validate_separately, **check_params)\u001b[0m\n\u001b[1;32m    583\u001b[0m \u001b[0;34m\u001b[0m\u001b[0m\n\u001b[1;32m    584\u001b[0m         \u001b[0;32mif\u001b[0m \u001b[0;32mnot\u001b[0m \u001b[0mno_val_X\u001b[0m \u001b[0;32mand\u001b[0m \u001b[0mcheck_params\u001b[0m\u001b[0;34m.\u001b[0m\u001b[0mget\u001b[0m\u001b[0;34m(\u001b[0m\u001b[0;34m\"ensure_2d\"\u001b[0m\u001b[0;34m,\u001b[0m \u001b[0;32mTrue\u001b[0m\u001b[0;34m)\u001b[0m\u001b[0;34m:\u001b[0m\u001b[0;34m\u001b[0m\u001b[0;34m\u001b[0m\u001b[0m\n\u001b[0;32m--> 585\u001b[0;31m             \u001b[0mself\u001b[0m\u001b[0;34m.\u001b[0m\u001b[0m_check_n_features\u001b[0m\u001b[0;34m(\u001b[0m\u001b[0mX\u001b[0m\u001b[0;34m,\u001b[0m \u001b[0mreset\u001b[0m\u001b[0;34m=\u001b[0m\u001b[0mreset\u001b[0m\u001b[0;34m)\u001b[0m\u001b[0;34m\u001b[0m\u001b[0;34m\u001b[0m\u001b[0m\n\u001b[0m\u001b[1;32m    586\u001b[0m \u001b[0;34m\u001b[0m\u001b[0m\n\u001b[1;32m    587\u001b[0m         \u001b[0;32mreturn\u001b[0m \u001b[0mout\u001b[0m\u001b[0;34m\u001b[0m\u001b[0;34m\u001b[0m\u001b[0m\n",
            "\u001b[0;32m/usr/local/lib/python3.8/dist-packages/sklearn/base.py\u001b[0m in \u001b[0;36m_check_n_features\u001b[0;34m(self, X, reset)\u001b[0m\n\u001b[1;32m    398\u001b[0m \u001b[0;34m\u001b[0m\u001b[0m\n\u001b[1;32m    399\u001b[0m         \u001b[0;32mif\u001b[0m \u001b[0mn_features\u001b[0m \u001b[0;34m!=\u001b[0m \u001b[0mself\u001b[0m\u001b[0;34m.\u001b[0m\u001b[0mn_features_in_\u001b[0m\u001b[0;34m:\u001b[0m\u001b[0;34m\u001b[0m\u001b[0;34m\u001b[0m\u001b[0m\n\u001b[0;32m--> 400\u001b[0;31m             raise ValueError(\n\u001b[0m\u001b[1;32m    401\u001b[0m                 \u001b[0;34mf\"X has {n_features} features, but {self.__class__.__name__} \"\u001b[0m\u001b[0;34m\u001b[0m\u001b[0;34m\u001b[0m\u001b[0m\n\u001b[1;32m    402\u001b[0m                 \u001b[0;34mf\"is expecting {self.n_features_in_} features as input.\"\u001b[0m\u001b[0;34m\u001b[0m\u001b[0;34m\u001b[0m\u001b[0m\n",
            "\u001b[0;31mValueError\u001b[0m: X has 543 features, but Ridge is expecting 634 features as input."
          ]
        }
      ]
    }
  ]
}